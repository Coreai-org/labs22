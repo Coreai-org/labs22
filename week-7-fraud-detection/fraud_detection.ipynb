{
 "cells": [
  {
   "cell_type": "code",
   "execution_count": 1,
   "id": "5523f125-e00f-48c4-a3fb-c785afb5ef45",
   "metadata": {
    "pycharm": {
     "name": "#%%\n"
    }
   },
   "outputs": [],
   "source": [
    "import pandas as pd\n",
    "import numpy as np\n",
    "import os\n",
    "\n",
    "from sklearn.model_selection import train_test_split\n",
    "from sklearn.linear_model import LogisticRegression\n",
    "from sklearn.neighbors import KNeighborsClassifier\n",
    "\n",
    "import operator"
   ]
  },
  {
   "cell_type": "code",
   "execution_count": 2,
   "id": "44ab3f06-6850-45e4-92df-6397a0977dbe",
   "metadata": {
    "pycharm": {
     "name": "#%%\n"
    }
   },
   "outputs": [],
   "source": [
    "def load_train(data_dir:str) -> pd.DataFrame():\n",
    "    train_transaction_df = pd.read_csv(os.path.join(data_dir, \"train_transaction.csv\"))\n",
    "    train_identity_df = pd.read_csv(os.path.join(data_dir, \"train_identity.csv\"))\n",
    "    train_transaction_df = train_transaction_df.merge(train_identity_df,how='left',on='TransactionID')\n",
    "\n",
    "    return train_transaction_df"
   ]
  },
  {
   "cell_type": "raw",
   "id": "7756e073-d910-431a-9d58-ee43a7edc0e2",
   "metadata": {
    "pycharm": {
     "name": "#%% raw\n"
    }
   },
   "source": []
  },
  {
   "cell_type": "code",
   "execution_count": 3,
   "id": "065ae938-3fa7-49d2-9029-105e2eb17245",
   "metadata": {
    "pycharm": {
     "name": "#%%\n"
    }
   },
   "outputs": [],
   "source": [
    "train_data=load_train(data_dir=\"../data-fraud-detection/\")"
   ]
  },
  {
   "cell_type": "code",
   "execution_count": 4,
   "id": "95e38d93-054e-43cc-aef8-5198ca53f83d",
   "metadata": {
    "pycharm": {
     "name": "#%%\n"
    }
   },
   "outputs": [
    {
     "data": {
      "text/plain": "   TransactionID  isFraud  TransactionDT  TransactionAmt ProductCD  card1  \\\n0        2987000        0          86400            68.5         W  13926   \n1        2987001        0          86401            29.0         W   2755   \n2        2987002        0          86469            59.0         W   4663   \n3        2987003        0          86499            50.0         W  18132   \n4        2987004        0          86506            50.0         H   4497   \n5        2987005        0          86510            49.0         W   5937   \n6        2987006        0          86522           159.0         W  12308   \n7        2987007        0          86529           422.5         W  12695   \n8        2987008        0          86535            15.0         H   2803   \n9        2987009        0          86536           117.0         W  17399   \n\n   card2  card3       card4  card5  ...                id_31  id_32  \\\n0    NaN  150.0    discover  142.0  ...                  NaN    NaN   \n1  404.0  150.0  mastercard  102.0  ...                  NaN    NaN   \n2  490.0  150.0        visa  166.0  ...                  NaN    NaN   \n3  567.0  150.0  mastercard  117.0  ...                  NaN    NaN   \n4  514.0  150.0  mastercard  102.0  ...  samsung browser 6.2   32.0   \n5  555.0  150.0        visa  226.0  ...                  NaN    NaN   \n6  360.0  150.0        visa  166.0  ...                  NaN    NaN   \n7  490.0  150.0        visa  226.0  ...                  NaN    NaN   \n8  100.0  150.0        visa  226.0  ...   mobile safari 11.0   32.0   \n9  111.0  150.0  mastercard  224.0  ...                  NaN    NaN   \n\n       id_33           id_34  id_35 id_36 id_37  id_38  DeviceType  \\\n0        NaN             NaN    NaN   NaN   NaN    NaN         NaN   \n1        NaN             NaN    NaN   NaN   NaN    NaN         NaN   \n2        NaN             NaN    NaN   NaN   NaN    NaN         NaN   \n3        NaN             NaN    NaN   NaN   NaN    NaN         NaN   \n4  2220x1080  match_status:2      T     F     T      T      mobile   \n5        NaN             NaN    NaN   NaN   NaN    NaN         NaN   \n6        NaN             NaN    NaN   NaN   NaN    NaN         NaN   \n7        NaN             NaN    NaN   NaN   NaN    NaN         NaN   \n8   1334x750  match_status:1      T     F     F      T      mobile   \n9        NaN             NaN    NaN   NaN   NaN    NaN         NaN   \n\n                      DeviceInfo  \n0                            NaN  \n1                            NaN  \n2                            NaN  \n3                            NaN  \n4  SAMSUNG SM-G892A Build/NRD90M  \n5                            NaN  \n6                            NaN  \n7                            NaN  \n8                     iOS Device  \n9                            NaN  \n\n[10 rows x 434 columns]",
      "text/html": "<div>\n<style scoped>\n    .dataframe tbody tr th:only-of-type {\n        vertical-align: middle;\n    }\n\n    .dataframe tbody tr th {\n        vertical-align: top;\n    }\n\n    .dataframe thead th {\n        text-align: right;\n    }\n</style>\n<table border=\"1\" class=\"dataframe\">\n  <thead>\n    <tr style=\"text-align: right;\">\n      <th></th>\n      <th>TransactionID</th>\n      <th>isFraud</th>\n      <th>TransactionDT</th>\n      <th>TransactionAmt</th>\n      <th>ProductCD</th>\n      <th>card1</th>\n      <th>card2</th>\n      <th>card3</th>\n      <th>card4</th>\n      <th>card5</th>\n      <th>...</th>\n      <th>id_31</th>\n      <th>id_32</th>\n      <th>id_33</th>\n      <th>id_34</th>\n      <th>id_35</th>\n      <th>id_36</th>\n      <th>id_37</th>\n      <th>id_38</th>\n      <th>DeviceType</th>\n      <th>DeviceInfo</th>\n    </tr>\n  </thead>\n  <tbody>\n    <tr>\n      <th>0</th>\n      <td>2987000</td>\n      <td>0</td>\n      <td>86400</td>\n      <td>68.5</td>\n      <td>W</td>\n      <td>13926</td>\n      <td>NaN</td>\n      <td>150.0</td>\n      <td>discover</td>\n      <td>142.0</td>\n      <td>...</td>\n      <td>NaN</td>\n      <td>NaN</td>\n      <td>NaN</td>\n      <td>NaN</td>\n      <td>NaN</td>\n      <td>NaN</td>\n      <td>NaN</td>\n      <td>NaN</td>\n      <td>NaN</td>\n      <td>NaN</td>\n    </tr>\n    <tr>\n      <th>1</th>\n      <td>2987001</td>\n      <td>0</td>\n      <td>86401</td>\n      <td>29.0</td>\n      <td>W</td>\n      <td>2755</td>\n      <td>404.0</td>\n      <td>150.0</td>\n      <td>mastercard</td>\n      <td>102.0</td>\n      <td>...</td>\n      <td>NaN</td>\n      <td>NaN</td>\n      <td>NaN</td>\n      <td>NaN</td>\n      <td>NaN</td>\n      <td>NaN</td>\n      <td>NaN</td>\n      <td>NaN</td>\n      <td>NaN</td>\n      <td>NaN</td>\n    </tr>\n    <tr>\n      <th>2</th>\n      <td>2987002</td>\n      <td>0</td>\n      <td>86469</td>\n      <td>59.0</td>\n      <td>W</td>\n      <td>4663</td>\n      <td>490.0</td>\n      <td>150.0</td>\n      <td>visa</td>\n      <td>166.0</td>\n      <td>...</td>\n      <td>NaN</td>\n      <td>NaN</td>\n      <td>NaN</td>\n      <td>NaN</td>\n      <td>NaN</td>\n      <td>NaN</td>\n      <td>NaN</td>\n      <td>NaN</td>\n      <td>NaN</td>\n      <td>NaN</td>\n    </tr>\n    <tr>\n      <th>3</th>\n      <td>2987003</td>\n      <td>0</td>\n      <td>86499</td>\n      <td>50.0</td>\n      <td>W</td>\n      <td>18132</td>\n      <td>567.0</td>\n      <td>150.0</td>\n      <td>mastercard</td>\n      <td>117.0</td>\n      <td>...</td>\n      <td>NaN</td>\n      <td>NaN</td>\n      <td>NaN</td>\n      <td>NaN</td>\n      <td>NaN</td>\n      <td>NaN</td>\n      <td>NaN</td>\n      <td>NaN</td>\n      <td>NaN</td>\n      <td>NaN</td>\n    </tr>\n    <tr>\n      <th>4</th>\n      <td>2987004</td>\n      <td>0</td>\n      <td>86506</td>\n      <td>50.0</td>\n      <td>H</td>\n      <td>4497</td>\n      <td>514.0</td>\n      <td>150.0</td>\n      <td>mastercard</td>\n      <td>102.0</td>\n      <td>...</td>\n      <td>samsung browser 6.2</td>\n      <td>32.0</td>\n      <td>2220x1080</td>\n      <td>match_status:2</td>\n      <td>T</td>\n      <td>F</td>\n      <td>T</td>\n      <td>T</td>\n      <td>mobile</td>\n      <td>SAMSUNG SM-G892A Build/NRD90M</td>\n    </tr>\n    <tr>\n      <th>5</th>\n      <td>2987005</td>\n      <td>0</td>\n      <td>86510</td>\n      <td>49.0</td>\n      <td>W</td>\n      <td>5937</td>\n      <td>555.0</td>\n      <td>150.0</td>\n      <td>visa</td>\n      <td>226.0</td>\n      <td>...</td>\n      <td>NaN</td>\n      <td>NaN</td>\n      <td>NaN</td>\n      <td>NaN</td>\n      <td>NaN</td>\n      <td>NaN</td>\n      <td>NaN</td>\n      <td>NaN</td>\n      <td>NaN</td>\n      <td>NaN</td>\n    </tr>\n    <tr>\n      <th>6</th>\n      <td>2987006</td>\n      <td>0</td>\n      <td>86522</td>\n      <td>159.0</td>\n      <td>W</td>\n      <td>12308</td>\n      <td>360.0</td>\n      <td>150.0</td>\n      <td>visa</td>\n      <td>166.0</td>\n      <td>...</td>\n      <td>NaN</td>\n      <td>NaN</td>\n      <td>NaN</td>\n      <td>NaN</td>\n      <td>NaN</td>\n      <td>NaN</td>\n      <td>NaN</td>\n      <td>NaN</td>\n      <td>NaN</td>\n      <td>NaN</td>\n    </tr>\n    <tr>\n      <th>7</th>\n      <td>2987007</td>\n      <td>0</td>\n      <td>86529</td>\n      <td>422.5</td>\n      <td>W</td>\n      <td>12695</td>\n      <td>490.0</td>\n      <td>150.0</td>\n      <td>visa</td>\n      <td>226.0</td>\n      <td>...</td>\n      <td>NaN</td>\n      <td>NaN</td>\n      <td>NaN</td>\n      <td>NaN</td>\n      <td>NaN</td>\n      <td>NaN</td>\n      <td>NaN</td>\n      <td>NaN</td>\n      <td>NaN</td>\n      <td>NaN</td>\n    </tr>\n    <tr>\n      <th>8</th>\n      <td>2987008</td>\n      <td>0</td>\n      <td>86535</td>\n      <td>15.0</td>\n      <td>H</td>\n      <td>2803</td>\n      <td>100.0</td>\n      <td>150.0</td>\n      <td>visa</td>\n      <td>226.0</td>\n      <td>...</td>\n      <td>mobile safari 11.0</td>\n      <td>32.0</td>\n      <td>1334x750</td>\n      <td>match_status:1</td>\n      <td>T</td>\n      <td>F</td>\n      <td>F</td>\n      <td>T</td>\n      <td>mobile</td>\n      <td>iOS Device</td>\n    </tr>\n    <tr>\n      <th>9</th>\n      <td>2987009</td>\n      <td>0</td>\n      <td>86536</td>\n      <td>117.0</td>\n      <td>W</td>\n      <td>17399</td>\n      <td>111.0</td>\n      <td>150.0</td>\n      <td>mastercard</td>\n      <td>224.0</td>\n      <td>...</td>\n      <td>NaN</td>\n      <td>NaN</td>\n      <td>NaN</td>\n      <td>NaN</td>\n      <td>NaN</td>\n      <td>NaN</td>\n      <td>NaN</td>\n      <td>NaN</td>\n      <td>NaN</td>\n      <td>NaN</td>\n    </tr>\n  </tbody>\n</table>\n<p>10 rows × 434 columns</p>\n</div>"
     },
     "execution_count": 4,
     "metadata": {},
     "output_type": "execute_result"
    }
   ],
   "source": [
    "train_data.head(n=10)"
   ]
  },
  {
   "cell_type": "code",
   "execution_count": 5,
   "id": "ed7c5cfe-df85-493b-8070-41f36bac0cfd",
   "metadata": {
    "pycharm": {
     "name": "#%%\n"
    }
   },
   "outputs": [
    {
     "name": "stdout",
     "output_type": "stream",
     "text": [
      "<class 'pandas.core.frame.DataFrame'>\n",
      "Int64Index: 590540 entries, 0 to 590539\n",
      "Columns: 434 entries, TransactionID to DeviceInfo\n",
      "dtypes: float64(399), int64(4), object(31)\n",
      "memory usage: 1.9+ GB\n"
     ]
    }
   ],
   "source": [
    "rows=train_data.shape[0]\n",
    "columns=train_data.shape[1]\n",
    "train_data.info()"
   ]
  },
  {
   "cell_type": "code",
   "execution_count": 6,
   "id": "e70d2776-0c24-4bf1-a7b7-7728d3227385",
   "metadata": {
    "pycharm": {
     "name": "#%%\n"
    }
   },
   "outputs": [],
   "source": [
    "def reduce_mem_usage(df, verbose=True):\n",
    "    numerics = ['int16', 'int32', 'int64', 'float16', 'float32', 'float64']\n",
    "    start_mem = df.memory_usage().sum() / 1024**2\n",
    "    for col in df.columns:\n",
    "        col_type = df[col].dtypes\n",
    "        if col_type in numerics:\n",
    "            c_min = df[col].min()\n",
    "            c_max = df[col].max()\n",
    "            if str(col_type)[:3] == 'int':\n",
    "                if c_min > np.iinfo(np.int8).min and c_max < np.iinfo(np.int8).max:\n",
    "                    df[col] = df[col].astype(np.int8)\n",
    "                elif c_min > np.iinfo(np.int16).min and c_max < np.iinfo(np.int16).max:\n",
    "                    df[col] = df[col].astype(np.int16)\n",
    "                elif c_min > np.iinfo(np.int32).min and c_max < np.iinfo(np.int32).max:\n",
    "                    df[col] = df[col].astype(np.int32)\n",
    "                elif c_min > np.iinfo(np.int64).min and c_max < np.iinfo(np.int64).max:\n",
    "                    df[col] = df[col].astype(np.int64)\n",
    "            else:\n",
    "                if c_min > np.finfo(np.float16).min and c_max < np.finfo(np.float16).max:\n",
    "                    df[col] = df[col].astype(np.float16)\n",
    "                elif c_min > np.finfo(np.float32).min and c_max < np.finfo(np.float32).max:\n",
    "                    df[col] = df[col].astype(np.float32)\n",
    "                else:\n",
    "                    df[col] = df[col].astype(np.float64)\n",
    "\n",
    "    end_mem = df.memory_usage().sum() / 1024**2\n",
    "    print('Memory usage after optimization is: {:.2f} MB'.format(end_mem))\n",
    "    print('Decreased by {:.1f}%'.format(100 * (start_mem - end_mem) / start_mem))\n",
    "\n",
    "    return df"
   ]
  },
  {
   "cell_type": "code",
   "execution_count": 7,
   "id": "f9df9a94-9969-48dd-bf95-18cbe24ba527",
   "metadata": {
    "pycharm": {
     "name": "#%%\n"
    }
   },
   "outputs": [
    {
     "name": "stdout",
     "output_type": "stream",
     "text": [
      "Memory usage after optimization is: 650.48 MB\n",
      "Decreased by 66.8%\n"
     ]
    }
   ],
   "source": [
    "train_data=reduce_mem_usage(train_data)"
   ]
  },
  {
   "cell_type": "code",
   "execution_count": 8,
   "id": "421c4859-1158-4a3f-aab0-349d2654381f",
   "metadata": {
    "pycharm": {
     "name": "#%%\n"
    }
   },
   "outputs": [
    {
     "name": "stdout",
     "output_type": "stream",
     "text": [
      "<class 'pandas.core.frame.DataFrame'>\n",
      "Int64Index: 590540 entries, 0 to 590539\n",
      "Columns: 434 entries, TransactionID to DeviceInfo\n",
      "dtypes: float16(354), float32(45), int16(1), int32(2), int8(1), object(31)\n",
      "memory usage: 650.5+ MB\n"
     ]
    }
   ],
   "source": [
    "train_data.info()"
   ]
  },
  {
   "cell_type": "code",
   "execution_count": 9,
   "id": "cdce19ae-56f0-43f6-bf40-2997450cdcd8",
   "metadata": {
    "pycharm": {
     "name": "#%%\n"
    }
   },
   "outputs": [
    {
     "name": "stdout",
     "output_type": "stream",
     "text": [
      "47.926267281105986\n"
     ]
    }
   ],
   "source": [
    "# 2.76 % of features have more then 90 % of values NaN\n",
    "sum=0\n",
    "for col in train_data.columns:\n",
    "    sum+=train_data[col].isna().sum()/rows>0.75\n",
    "    \n",
    "print(sum/columns*100)"
   ]
  },
  {
   "cell_type": "markdown",
   "id": "092995a3-650c-4ff5-9a81-3735412c6a3c",
   "metadata": {
    "pycharm": {
     "name": "#%% md\n"
    }
   },
   "source": [
    "DROPPING FEATURES WITH NR OF NANS > 90%"
   ]
  },
  {
   "cell_type": "code",
   "execution_count": 10,
   "id": "7d9cb861-9352-4123-a8ca-7a60a38c941b",
   "metadata": {
    "pycharm": {
     "name": "#%%\n"
    }
   },
   "outputs": [
    {
     "data": {
      "text/plain": "        TransactionID  isFraud  TransactionDT  TransactionAmt ProductCD  \\\n0             2987000        0          86400       68.500000         W   \n1             2987001        0          86401       29.000000         W   \n2             2987002        0          86469       59.000000         W   \n3             2987003        0          86499       50.000000         W   \n4             2987004        0          86506       50.000000         H   \n...               ...      ...            ...             ...       ...   \n590535        3577535        0       15811047       49.000000         W   \n590536        3577536        0       15811049       39.500000         W   \n590537        3577537        0       15811079       30.953125         W   \n590538        3577538        0       15811088      117.000000         W   \n590539        3577539        0       15811131      280.000000         W   \n\n        card1  card2  card3       card4  card5  ...                id_31  \\\n0       13926    NaN  150.0    discover  142.0  ...                  NaN   \n1        2755  404.0  150.0  mastercard  102.0  ...                  NaN   \n2        4663  490.0  150.0        visa  166.0  ...                  NaN   \n3       18132  567.0  150.0  mastercard  117.0  ...                  NaN   \n4        4497  514.0  150.0  mastercard  102.0  ...  samsung browser 6.2   \n...       ...    ...    ...         ...    ...  ...                  ...   \n590535   6550    NaN  150.0        visa  226.0  ...                  NaN   \n590536  10444  225.0  150.0  mastercard  224.0  ...                  NaN   \n590537  12037  595.0  150.0  mastercard  224.0  ...                  NaN   \n590538   7826  481.0  150.0  mastercard  224.0  ...                  NaN   \n590539  15066  170.0  150.0  mastercard  102.0  ...                  NaN   \n\n        id_32      id_33           id_34 id_35 id_36  id_37  id_38  \\\n0         NaN        NaN             NaN   NaN   NaN    NaN    NaN   \n1         NaN        NaN             NaN   NaN   NaN    NaN    NaN   \n2         NaN        NaN             NaN   NaN   NaN    NaN    NaN   \n3         NaN        NaN             NaN   NaN   NaN    NaN    NaN   \n4        32.0  2220x1080  match_status:2     T     F      T      T   \n...       ...        ...             ...   ...   ...    ...    ...   \n590535    NaN        NaN             NaN   NaN   NaN    NaN    NaN   \n590536    NaN        NaN             NaN   NaN   NaN    NaN    NaN   \n590537    NaN        NaN             NaN   NaN   NaN    NaN    NaN   \n590538    NaN        NaN             NaN   NaN   NaN    NaN    NaN   \n590539    NaN        NaN             NaN   NaN   NaN    NaN    NaN   \n\n        DeviceType                     DeviceInfo  \n0              NaN                            NaN  \n1              NaN                            NaN  \n2              NaN                            NaN  \n3              NaN                            NaN  \n4           mobile  SAMSUNG SM-G892A Build/NRD90M  \n...            ...                            ...  \n590535         NaN                            NaN  \n590536         NaN                            NaN  \n590537         NaN                            NaN  \n590538         NaN                            NaN  \n590539         NaN                            NaN  \n\n[590540 rows x 422 columns]",
      "text/html": "<div>\n<style scoped>\n    .dataframe tbody tr th:only-of-type {\n        vertical-align: middle;\n    }\n\n    .dataframe tbody tr th {\n        vertical-align: top;\n    }\n\n    .dataframe thead th {\n        text-align: right;\n    }\n</style>\n<table border=\"1\" class=\"dataframe\">\n  <thead>\n    <tr style=\"text-align: right;\">\n      <th></th>\n      <th>TransactionID</th>\n      <th>isFraud</th>\n      <th>TransactionDT</th>\n      <th>TransactionAmt</th>\n      <th>ProductCD</th>\n      <th>card1</th>\n      <th>card2</th>\n      <th>card3</th>\n      <th>card4</th>\n      <th>card5</th>\n      <th>...</th>\n      <th>id_31</th>\n      <th>id_32</th>\n      <th>id_33</th>\n      <th>id_34</th>\n      <th>id_35</th>\n      <th>id_36</th>\n      <th>id_37</th>\n      <th>id_38</th>\n      <th>DeviceType</th>\n      <th>DeviceInfo</th>\n    </tr>\n  </thead>\n  <tbody>\n    <tr>\n      <th>0</th>\n      <td>2987000</td>\n      <td>0</td>\n      <td>86400</td>\n      <td>68.500000</td>\n      <td>W</td>\n      <td>13926</td>\n      <td>NaN</td>\n      <td>150.0</td>\n      <td>discover</td>\n      <td>142.0</td>\n      <td>...</td>\n      <td>NaN</td>\n      <td>NaN</td>\n      <td>NaN</td>\n      <td>NaN</td>\n      <td>NaN</td>\n      <td>NaN</td>\n      <td>NaN</td>\n      <td>NaN</td>\n      <td>NaN</td>\n      <td>NaN</td>\n    </tr>\n    <tr>\n      <th>1</th>\n      <td>2987001</td>\n      <td>0</td>\n      <td>86401</td>\n      <td>29.000000</td>\n      <td>W</td>\n      <td>2755</td>\n      <td>404.0</td>\n      <td>150.0</td>\n      <td>mastercard</td>\n      <td>102.0</td>\n      <td>...</td>\n      <td>NaN</td>\n      <td>NaN</td>\n      <td>NaN</td>\n      <td>NaN</td>\n      <td>NaN</td>\n      <td>NaN</td>\n      <td>NaN</td>\n      <td>NaN</td>\n      <td>NaN</td>\n      <td>NaN</td>\n    </tr>\n    <tr>\n      <th>2</th>\n      <td>2987002</td>\n      <td>0</td>\n      <td>86469</td>\n      <td>59.000000</td>\n      <td>W</td>\n      <td>4663</td>\n      <td>490.0</td>\n      <td>150.0</td>\n      <td>visa</td>\n      <td>166.0</td>\n      <td>...</td>\n      <td>NaN</td>\n      <td>NaN</td>\n      <td>NaN</td>\n      <td>NaN</td>\n      <td>NaN</td>\n      <td>NaN</td>\n      <td>NaN</td>\n      <td>NaN</td>\n      <td>NaN</td>\n      <td>NaN</td>\n    </tr>\n    <tr>\n      <th>3</th>\n      <td>2987003</td>\n      <td>0</td>\n      <td>86499</td>\n      <td>50.000000</td>\n      <td>W</td>\n      <td>18132</td>\n      <td>567.0</td>\n      <td>150.0</td>\n      <td>mastercard</td>\n      <td>117.0</td>\n      <td>...</td>\n      <td>NaN</td>\n      <td>NaN</td>\n      <td>NaN</td>\n      <td>NaN</td>\n      <td>NaN</td>\n      <td>NaN</td>\n      <td>NaN</td>\n      <td>NaN</td>\n      <td>NaN</td>\n      <td>NaN</td>\n    </tr>\n    <tr>\n      <th>4</th>\n      <td>2987004</td>\n      <td>0</td>\n      <td>86506</td>\n      <td>50.000000</td>\n      <td>H</td>\n      <td>4497</td>\n      <td>514.0</td>\n      <td>150.0</td>\n      <td>mastercard</td>\n      <td>102.0</td>\n      <td>...</td>\n      <td>samsung browser 6.2</td>\n      <td>32.0</td>\n      <td>2220x1080</td>\n      <td>match_status:2</td>\n      <td>T</td>\n      <td>F</td>\n      <td>T</td>\n      <td>T</td>\n      <td>mobile</td>\n      <td>SAMSUNG SM-G892A Build/NRD90M</td>\n    </tr>\n    <tr>\n      <th>...</th>\n      <td>...</td>\n      <td>...</td>\n      <td>...</td>\n      <td>...</td>\n      <td>...</td>\n      <td>...</td>\n      <td>...</td>\n      <td>...</td>\n      <td>...</td>\n      <td>...</td>\n      <td>...</td>\n      <td>...</td>\n      <td>...</td>\n      <td>...</td>\n      <td>...</td>\n      <td>...</td>\n      <td>...</td>\n      <td>...</td>\n      <td>...</td>\n      <td>...</td>\n      <td>...</td>\n    </tr>\n    <tr>\n      <th>590535</th>\n      <td>3577535</td>\n      <td>0</td>\n      <td>15811047</td>\n      <td>49.000000</td>\n      <td>W</td>\n      <td>6550</td>\n      <td>NaN</td>\n      <td>150.0</td>\n      <td>visa</td>\n      <td>226.0</td>\n      <td>...</td>\n      <td>NaN</td>\n      <td>NaN</td>\n      <td>NaN</td>\n      <td>NaN</td>\n      <td>NaN</td>\n      <td>NaN</td>\n      <td>NaN</td>\n      <td>NaN</td>\n      <td>NaN</td>\n      <td>NaN</td>\n    </tr>\n    <tr>\n      <th>590536</th>\n      <td>3577536</td>\n      <td>0</td>\n      <td>15811049</td>\n      <td>39.500000</td>\n      <td>W</td>\n      <td>10444</td>\n      <td>225.0</td>\n      <td>150.0</td>\n      <td>mastercard</td>\n      <td>224.0</td>\n      <td>...</td>\n      <td>NaN</td>\n      <td>NaN</td>\n      <td>NaN</td>\n      <td>NaN</td>\n      <td>NaN</td>\n      <td>NaN</td>\n      <td>NaN</td>\n      <td>NaN</td>\n      <td>NaN</td>\n      <td>NaN</td>\n    </tr>\n    <tr>\n      <th>590537</th>\n      <td>3577537</td>\n      <td>0</td>\n      <td>15811079</td>\n      <td>30.953125</td>\n      <td>W</td>\n      <td>12037</td>\n      <td>595.0</td>\n      <td>150.0</td>\n      <td>mastercard</td>\n      <td>224.0</td>\n      <td>...</td>\n      <td>NaN</td>\n      <td>NaN</td>\n      <td>NaN</td>\n      <td>NaN</td>\n      <td>NaN</td>\n      <td>NaN</td>\n      <td>NaN</td>\n      <td>NaN</td>\n      <td>NaN</td>\n      <td>NaN</td>\n    </tr>\n    <tr>\n      <th>590538</th>\n      <td>3577538</td>\n      <td>0</td>\n      <td>15811088</td>\n      <td>117.000000</td>\n      <td>W</td>\n      <td>7826</td>\n      <td>481.0</td>\n      <td>150.0</td>\n      <td>mastercard</td>\n      <td>224.0</td>\n      <td>...</td>\n      <td>NaN</td>\n      <td>NaN</td>\n      <td>NaN</td>\n      <td>NaN</td>\n      <td>NaN</td>\n      <td>NaN</td>\n      <td>NaN</td>\n      <td>NaN</td>\n      <td>NaN</td>\n      <td>NaN</td>\n    </tr>\n    <tr>\n      <th>590539</th>\n      <td>3577539</td>\n      <td>0</td>\n      <td>15811131</td>\n      <td>280.000000</td>\n      <td>W</td>\n      <td>15066</td>\n      <td>170.0</td>\n      <td>150.0</td>\n      <td>mastercard</td>\n      <td>102.0</td>\n      <td>...</td>\n      <td>NaN</td>\n      <td>NaN</td>\n      <td>NaN</td>\n      <td>NaN</td>\n      <td>NaN</td>\n      <td>NaN</td>\n      <td>NaN</td>\n      <td>NaN</td>\n      <td>NaN</td>\n      <td>NaN</td>\n    </tr>\n  </tbody>\n</table>\n<p>590540 rows × 422 columns</p>\n</div>"
     },
     "execution_count": 10,
     "metadata": {},
     "output_type": "execute_result"
    }
   ],
   "source": [
    "aux=train_data.copy()\n",
    "aux.drop(aux.columns[aux.apply(lambda col: col.isnull().sum()/rows > 0.90)],axis=1,inplace=True)\n",
    "aux"
   ]
  },
  {
   "cell_type": "markdown",
   "id": "4dc095ae-7dd3-4236-9495-1025ec99c9c1",
   "metadata": {
    "pycharm": {
     "name": "#%% md\n"
    }
   },
   "source": [
    "TRANSFORMING STRING VALUES"
   ]
  },
  {
   "cell_type": "code",
   "execution_count": 11,
   "id": "7033d0c8-c9d4-424e-bbe1-234e3521160c",
   "metadata": {
    "pycharm": {
     "name": "#%%\n"
    }
   },
   "outputs": [
    {
     "name": "stdout",
     "output_type": "stream",
     "text": [
      "<class 'pandas.core.frame.DataFrame'>\n",
      "Int64Index: 590540 entries, 0 to 590539\n",
      "Columns: 422 entries, TransactionID to DeviceInfo\n",
      "dtypes: float16(344), float32(45), int16(1), int32(2), int8(1), object(29)\n",
      "memory usage: 630.2+ MB\n"
     ]
    }
   ],
   "source": [
    "aux.info()"
   ]
  },
  {
   "cell_type": "code",
   "execution_count": 12,
   "id": "01257001-d7fd-49ba-b14e-e73856248378",
   "metadata": {
    "pycharm": {
     "name": "#%%\n"
    }
   },
   "outputs": [
    {
     "data": {
      "text/plain": "   TransactionID  isFraud  TransactionDT  TransactionAmt ProductCD  card1  \\\n0        2987000        0          86400            68.5         W  13926   \n1        2987001        0          86401            29.0         W   2755   \n2        2987002        0          86469            59.0         W   4663   \n3        2987003        0          86499            50.0         W  18132   \n4        2987004        0          86506            50.0         H   4497   \n\n   card2  card3       card4  card5  ...                id_31  id_32  \\\n0    NaN  150.0    discover  142.0  ...                  NaN    NaN   \n1  404.0  150.0  mastercard  102.0  ...                  NaN    NaN   \n2  490.0  150.0        visa  166.0  ...                  NaN    NaN   \n3  567.0  150.0  mastercard  117.0  ...                  NaN    NaN   \n4  514.0  150.0  mastercard  102.0  ...  samsung browser 6.2   32.0   \n\n       id_33           id_34 id_35 id_36  id_37  id_38  DeviceType  \\\n0        NaN             NaN   NaN   NaN    NaN    NaN         NaN   \n1        NaN             NaN   NaN   NaN    NaN    NaN         NaN   \n2        NaN             NaN   NaN   NaN    NaN    NaN         NaN   \n3        NaN             NaN   NaN   NaN    NaN    NaN         NaN   \n4  2220x1080  match_status:2     T     F      T      T      mobile   \n\n                      DeviceInfo  \n0                            NaN  \n1                            NaN  \n2                            NaN  \n3                            NaN  \n4  SAMSUNG SM-G892A Build/NRD90M  \n\n[5 rows x 422 columns]",
      "text/html": "<div>\n<style scoped>\n    .dataframe tbody tr th:only-of-type {\n        vertical-align: middle;\n    }\n\n    .dataframe tbody tr th {\n        vertical-align: top;\n    }\n\n    .dataframe thead th {\n        text-align: right;\n    }\n</style>\n<table border=\"1\" class=\"dataframe\">\n  <thead>\n    <tr style=\"text-align: right;\">\n      <th></th>\n      <th>TransactionID</th>\n      <th>isFraud</th>\n      <th>TransactionDT</th>\n      <th>TransactionAmt</th>\n      <th>ProductCD</th>\n      <th>card1</th>\n      <th>card2</th>\n      <th>card3</th>\n      <th>card4</th>\n      <th>card5</th>\n      <th>...</th>\n      <th>id_31</th>\n      <th>id_32</th>\n      <th>id_33</th>\n      <th>id_34</th>\n      <th>id_35</th>\n      <th>id_36</th>\n      <th>id_37</th>\n      <th>id_38</th>\n      <th>DeviceType</th>\n      <th>DeviceInfo</th>\n    </tr>\n  </thead>\n  <tbody>\n    <tr>\n      <th>0</th>\n      <td>2987000</td>\n      <td>0</td>\n      <td>86400</td>\n      <td>68.5</td>\n      <td>W</td>\n      <td>13926</td>\n      <td>NaN</td>\n      <td>150.0</td>\n      <td>discover</td>\n      <td>142.0</td>\n      <td>...</td>\n      <td>NaN</td>\n      <td>NaN</td>\n      <td>NaN</td>\n      <td>NaN</td>\n      <td>NaN</td>\n      <td>NaN</td>\n      <td>NaN</td>\n      <td>NaN</td>\n      <td>NaN</td>\n      <td>NaN</td>\n    </tr>\n    <tr>\n      <th>1</th>\n      <td>2987001</td>\n      <td>0</td>\n      <td>86401</td>\n      <td>29.0</td>\n      <td>W</td>\n      <td>2755</td>\n      <td>404.0</td>\n      <td>150.0</td>\n      <td>mastercard</td>\n      <td>102.0</td>\n      <td>...</td>\n      <td>NaN</td>\n      <td>NaN</td>\n      <td>NaN</td>\n      <td>NaN</td>\n      <td>NaN</td>\n      <td>NaN</td>\n      <td>NaN</td>\n      <td>NaN</td>\n      <td>NaN</td>\n      <td>NaN</td>\n    </tr>\n    <tr>\n      <th>2</th>\n      <td>2987002</td>\n      <td>0</td>\n      <td>86469</td>\n      <td>59.0</td>\n      <td>W</td>\n      <td>4663</td>\n      <td>490.0</td>\n      <td>150.0</td>\n      <td>visa</td>\n      <td>166.0</td>\n      <td>...</td>\n      <td>NaN</td>\n      <td>NaN</td>\n      <td>NaN</td>\n      <td>NaN</td>\n      <td>NaN</td>\n      <td>NaN</td>\n      <td>NaN</td>\n      <td>NaN</td>\n      <td>NaN</td>\n      <td>NaN</td>\n    </tr>\n    <tr>\n      <th>3</th>\n      <td>2987003</td>\n      <td>0</td>\n      <td>86499</td>\n      <td>50.0</td>\n      <td>W</td>\n      <td>18132</td>\n      <td>567.0</td>\n      <td>150.0</td>\n      <td>mastercard</td>\n      <td>117.0</td>\n      <td>...</td>\n      <td>NaN</td>\n      <td>NaN</td>\n      <td>NaN</td>\n      <td>NaN</td>\n      <td>NaN</td>\n      <td>NaN</td>\n      <td>NaN</td>\n      <td>NaN</td>\n      <td>NaN</td>\n      <td>NaN</td>\n    </tr>\n    <tr>\n      <th>4</th>\n      <td>2987004</td>\n      <td>0</td>\n      <td>86506</td>\n      <td>50.0</td>\n      <td>H</td>\n      <td>4497</td>\n      <td>514.0</td>\n      <td>150.0</td>\n      <td>mastercard</td>\n      <td>102.0</td>\n      <td>...</td>\n      <td>samsung browser 6.2</td>\n      <td>32.0</td>\n      <td>2220x1080</td>\n      <td>match_status:2</td>\n      <td>T</td>\n      <td>F</td>\n      <td>T</td>\n      <td>T</td>\n      <td>mobile</td>\n      <td>SAMSUNG SM-G892A Build/NRD90M</td>\n    </tr>\n  </tbody>\n</table>\n<p>5 rows × 422 columns</p>\n</div>"
     },
     "execution_count": 12,
     "metadata": {},
     "output_type": "execute_result"
    }
   ],
   "source": [
    "aux.head()"
   ]
  },
  {
   "cell_type": "markdown",
   "id": "c351706c-7df9-482c-a764-03c9f625e156",
   "metadata": {
    "pycharm": {
     "name": "#%% md\n"
    }
   },
   "source": [
    "TRANBSFORM TRANSACTIONDT TO HOURS AND DAYS\n"
   ]
  },
  {
   "cell_type": "code",
   "execution_count": 13,
   "id": "94d81bee-f1d3-4856-93b8-71c31509be7e",
   "metadata": {
    "pycharm": {
     "name": "#%%\n"
    }
   },
   "outputs": [
    {
     "data": {
      "text/plain": "0          0.000000\n1          0.000278\n2          0.019167\n3          0.027500\n4          0.029444\n            ...    \n590535    23.957500\n590536    23.958056\n590537    23.966389\n590538    23.968889\n590539    23.980833\nName: TransactionHour, Length: 590540, dtype: float64"
     },
     "execution_count": 13,
     "metadata": {},
     "output_type": "execute_result"
    }
   ],
   "source": [
    "aux['TransactionHour']=aux['TransactionDT']/3600 % 24\n",
    "aux['TransactionDay']=aux['TransactionDT']/(3600*24)%7\n",
    "aux.drop(['TransactionDT'],axis=1,inplace=True)\n",
    "aux['TransactionHour']"
   ]
  },
  {
   "cell_type": "code",
   "execution_count": 14,
   "id": "3402db8e-f0cb-4cf9-bcaa-2a2fc5afb805",
   "metadata": {
    "pycharm": {
     "name": "#%%\n"
    }
   },
   "outputs": [
    {
     "data": {
      "text/plain": "   TransactionID  isFraud  TransactionAmt ProductCD  card1  card2  card3  \\\n0        2987000        0            68.5         W  13926    NaN  150.0   \n1        2987001        0            29.0         W   2755  404.0  150.0   \n2        2987002        0            59.0         W   4663  490.0  150.0   \n3        2987003        0            50.0         W  18132  567.0  150.0   \n4        2987004        0            50.0         H   4497  514.0  150.0   \n\n        card4  card5   card6  ...      id_33           id_34  id_35 id_36  \\\n0    discover  142.0  credit  ...        NaN             NaN    NaN   NaN   \n1  mastercard  102.0  credit  ...        NaN             NaN    NaN   NaN   \n2        visa  166.0   debit  ...        NaN             NaN    NaN   NaN   \n3  mastercard  117.0   debit  ...        NaN             NaN    NaN   NaN   \n4  mastercard  102.0  credit  ...  2220x1080  match_status:2      T     F   \n\n  id_37  id_38  DeviceType                     DeviceInfo  TransactionHour  \\\n0   NaN    NaN         NaN                            NaN         0.000000   \n1   NaN    NaN         NaN                            NaN         0.000278   \n2   NaN    NaN         NaN                            NaN         0.019167   \n3   NaN    NaN         NaN                            NaN         0.027500   \n4     T      T      mobile  SAMSUNG SM-G892A Build/NRD90M         0.029444   \n\n   TransactionDay  \n0        1.000000  \n1        1.000012  \n2        1.000799  \n3        1.001146  \n4        1.001227  \n\n[5 rows x 423 columns]",
      "text/html": "<div>\n<style scoped>\n    .dataframe tbody tr th:only-of-type {\n        vertical-align: middle;\n    }\n\n    .dataframe tbody tr th {\n        vertical-align: top;\n    }\n\n    .dataframe thead th {\n        text-align: right;\n    }\n</style>\n<table border=\"1\" class=\"dataframe\">\n  <thead>\n    <tr style=\"text-align: right;\">\n      <th></th>\n      <th>TransactionID</th>\n      <th>isFraud</th>\n      <th>TransactionAmt</th>\n      <th>ProductCD</th>\n      <th>card1</th>\n      <th>card2</th>\n      <th>card3</th>\n      <th>card4</th>\n      <th>card5</th>\n      <th>card6</th>\n      <th>...</th>\n      <th>id_33</th>\n      <th>id_34</th>\n      <th>id_35</th>\n      <th>id_36</th>\n      <th>id_37</th>\n      <th>id_38</th>\n      <th>DeviceType</th>\n      <th>DeviceInfo</th>\n      <th>TransactionHour</th>\n      <th>TransactionDay</th>\n    </tr>\n  </thead>\n  <tbody>\n    <tr>\n      <th>0</th>\n      <td>2987000</td>\n      <td>0</td>\n      <td>68.5</td>\n      <td>W</td>\n      <td>13926</td>\n      <td>NaN</td>\n      <td>150.0</td>\n      <td>discover</td>\n      <td>142.0</td>\n      <td>credit</td>\n      <td>...</td>\n      <td>NaN</td>\n      <td>NaN</td>\n      <td>NaN</td>\n      <td>NaN</td>\n      <td>NaN</td>\n      <td>NaN</td>\n      <td>NaN</td>\n      <td>NaN</td>\n      <td>0.000000</td>\n      <td>1.000000</td>\n    </tr>\n    <tr>\n      <th>1</th>\n      <td>2987001</td>\n      <td>0</td>\n      <td>29.0</td>\n      <td>W</td>\n      <td>2755</td>\n      <td>404.0</td>\n      <td>150.0</td>\n      <td>mastercard</td>\n      <td>102.0</td>\n      <td>credit</td>\n      <td>...</td>\n      <td>NaN</td>\n      <td>NaN</td>\n      <td>NaN</td>\n      <td>NaN</td>\n      <td>NaN</td>\n      <td>NaN</td>\n      <td>NaN</td>\n      <td>NaN</td>\n      <td>0.000278</td>\n      <td>1.000012</td>\n    </tr>\n    <tr>\n      <th>2</th>\n      <td>2987002</td>\n      <td>0</td>\n      <td>59.0</td>\n      <td>W</td>\n      <td>4663</td>\n      <td>490.0</td>\n      <td>150.0</td>\n      <td>visa</td>\n      <td>166.0</td>\n      <td>debit</td>\n      <td>...</td>\n      <td>NaN</td>\n      <td>NaN</td>\n      <td>NaN</td>\n      <td>NaN</td>\n      <td>NaN</td>\n      <td>NaN</td>\n      <td>NaN</td>\n      <td>NaN</td>\n      <td>0.019167</td>\n      <td>1.000799</td>\n    </tr>\n    <tr>\n      <th>3</th>\n      <td>2987003</td>\n      <td>0</td>\n      <td>50.0</td>\n      <td>W</td>\n      <td>18132</td>\n      <td>567.0</td>\n      <td>150.0</td>\n      <td>mastercard</td>\n      <td>117.0</td>\n      <td>debit</td>\n      <td>...</td>\n      <td>NaN</td>\n      <td>NaN</td>\n      <td>NaN</td>\n      <td>NaN</td>\n      <td>NaN</td>\n      <td>NaN</td>\n      <td>NaN</td>\n      <td>NaN</td>\n      <td>0.027500</td>\n      <td>1.001146</td>\n    </tr>\n    <tr>\n      <th>4</th>\n      <td>2987004</td>\n      <td>0</td>\n      <td>50.0</td>\n      <td>H</td>\n      <td>4497</td>\n      <td>514.0</td>\n      <td>150.0</td>\n      <td>mastercard</td>\n      <td>102.0</td>\n      <td>credit</td>\n      <td>...</td>\n      <td>2220x1080</td>\n      <td>match_status:2</td>\n      <td>T</td>\n      <td>F</td>\n      <td>T</td>\n      <td>T</td>\n      <td>mobile</td>\n      <td>SAMSUNG SM-G892A Build/NRD90M</td>\n      <td>0.029444</td>\n      <td>1.001227</td>\n    </tr>\n  </tbody>\n</table>\n<p>5 rows × 423 columns</p>\n</div>"
     },
     "execution_count": 14,
     "metadata": {},
     "output_type": "execute_result"
    }
   ],
   "source": [
    "aux.head()"
   ]
  },
  {
   "cell_type": "code",
   "execution_count": 15,
   "id": "d4e3ed92-a6c2-4f03-9bd7-dfeb939fc807",
   "metadata": {
    "pycharm": {
     "name": "#%%\n"
    }
   },
   "outputs": [
    {
     "data": {
      "text/plain": "['ProductCD',\n 'card4',\n 'card6',\n 'P_emaildomain',\n 'R_emaildomain',\n 'M1',\n 'M2',\n 'M3',\n 'M4',\n 'M5',\n 'M6',\n 'M7',\n 'M8',\n 'M9',\n 'id_12',\n 'id_15',\n 'id_16',\n 'id_28',\n 'id_29',\n 'id_30',\n 'id_31',\n 'id_33',\n 'id_34',\n 'id_35',\n 'id_36',\n 'id_37',\n 'id_38',\n 'DeviceType',\n 'DeviceInfo']"
     },
     "execution_count": 15,
     "metadata": {},
     "output_type": "execute_result"
    }
   ],
   "source": [
    "aux.select_dtypes(include=[\"object\"]).columns.tolist()"
   ]
  },
  {
   "cell_type": "markdown",
   "id": "44e08d1d-ba70-4ba8-a79e-1465b66965e1",
   "metadata": {
    "pycharm": {
     "name": "#%% md\n"
    }
   },
   "source": [
    "Transforing String Values-continue"
   ]
  },
  {
   "cell_type": "code",
   "execution_count": 16,
   "id": "8b35f469-aa50-4eb2-82ff-d6a9fadf1fe9",
   "metadata": {
    "pycharm": {
     "name": "#%%\n"
    }
   },
   "outputs": [
    {
     "data": {
      "text/plain": "       P_emaildomain R_emaildomain\n0                NaN           NaN\n1          gmail.com     gmail.com\n2        outlook.com   outlook.com\n3          yahoo.com     yahoo.com\n4          gmail.com     gmail.com\n...              ...           ...\n590535           NaN           NaN\n590536     gmail.com     gmail.com\n590537     gmail.com     gmail.com\n590538       aol.com       aol.com\n590539     gmail.com     gmail.com\n\n[590540 rows x 2 columns]",
      "text/html": "<div>\n<style scoped>\n    .dataframe tbody tr th:only-of-type {\n        vertical-align: middle;\n    }\n\n    .dataframe tbody tr th {\n        vertical-align: top;\n    }\n\n    .dataframe thead th {\n        text-align: right;\n    }\n</style>\n<table border=\"1\" class=\"dataframe\">\n  <thead>\n    <tr style=\"text-align: right;\">\n      <th></th>\n      <th>P_emaildomain</th>\n      <th>R_emaildomain</th>\n    </tr>\n  </thead>\n  <tbody>\n    <tr>\n      <th>0</th>\n      <td>NaN</td>\n      <td>NaN</td>\n    </tr>\n    <tr>\n      <th>1</th>\n      <td>gmail.com</td>\n      <td>gmail.com</td>\n    </tr>\n    <tr>\n      <th>2</th>\n      <td>outlook.com</td>\n      <td>outlook.com</td>\n    </tr>\n    <tr>\n      <th>3</th>\n      <td>yahoo.com</td>\n      <td>yahoo.com</td>\n    </tr>\n    <tr>\n      <th>4</th>\n      <td>gmail.com</td>\n      <td>gmail.com</td>\n    </tr>\n    <tr>\n      <th>...</th>\n      <td>...</td>\n      <td>...</td>\n    </tr>\n    <tr>\n      <th>590535</th>\n      <td>NaN</td>\n      <td>NaN</td>\n    </tr>\n    <tr>\n      <th>590536</th>\n      <td>gmail.com</td>\n      <td>gmail.com</td>\n    </tr>\n    <tr>\n      <th>590537</th>\n      <td>gmail.com</td>\n      <td>gmail.com</td>\n    </tr>\n    <tr>\n      <th>590538</th>\n      <td>aol.com</td>\n      <td>aol.com</td>\n    </tr>\n    <tr>\n      <th>590539</th>\n      <td>gmail.com</td>\n      <td>gmail.com</td>\n    </tr>\n  </tbody>\n</table>\n<p>590540 rows × 2 columns</p>\n</div>"
     },
     "execution_count": 16,
     "metadata": {},
     "output_type": "execute_result"
    }
   ],
   "source": [
    "aux['P_emaildomain'].unique()\n",
    "aux['P_emaildomain'].fillna(value=aux['R_emaildomain'],inplace=True)\n",
    "aux['R_emaildomain'].fillna(value=aux['P_emaildomain'],inplace=True)\n",
    "aux[['P_emaildomain','R_emaildomain']]"
   ]
  },
  {
   "cell_type": "code",
   "execution_count": 17,
   "id": "12c1416f-c830-407d-9b7a-6b99ce35c191",
   "metadata": {
    "pycharm": {
     "name": "#%%\n"
    }
   },
   "outputs": [
    {
     "data": {
      "text/plain": "       P_emaildomain R_emaildomain\n0            missing       missing\n1          gmail.com     gmail.com\n2        outlook.com   outlook.com\n3          yahoo.com     yahoo.com\n4          gmail.com     gmail.com\n...              ...           ...\n590535       missing       missing\n590536     gmail.com     gmail.com\n590537     gmail.com     gmail.com\n590538       aol.com       aol.com\n590539     gmail.com     gmail.com\n\n[590540 rows x 2 columns]",
      "text/html": "<div>\n<style scoped>\n    .dataframe tbody tr th:only-of-type {\n        vertical-align: middle;\n    }\n\n    .dataframe tbody tr th {\n        vertical-align: top;\n    }\n\n    .dataframe thead th {\n        text-align: right;\n    }\n</style>\n<table border=\"1\" class=\"dataframe\">\n  <thead>\n    <tr style=\"text-align: right;\">\n      <th></th>\n      <th>P_emaildomain</th>\n      <th>R_emaildomain</th>\n    </tr>\n  </thead>\n  <tbody>\n    <tr>\n      <th>0</th>\n      <td>missing</td>\n      <td>missing</td>\n    </tr>\n    <tr>\n      <th>1</th>\n      <td>gmail.com</td>\n      <td>gmail.com</td>\n    </tr>\n    <tr>\n      <th>2</th>\n      <td>outlook.com</td>\n      <td>outlook.com</td>\n    </tr>\n    <tr>\n      <th>3</th>\n      <td>yahoo.com</td>\n      <td>yahoo.com</td>\n    </tr>\n    <tr>\n      <th>4</th>\n      <td>gmail.com</td>\n      <td>gmail.com</td>\n    </tr>\n    <tr>\n      <th>...</th>\n      <td>...</td>\n      <td>...</td>\n    </tr>\n    <tr>\n      <th>590535</th>\n      <td>missing</td>\n      <td>missing</td>\n    </tr>\n    <tr>\n      <th>590536</th>\n      <td>gmail.com</td>\n      <td>gmail.com</td>\n    </tr>\n    <tr>\n      <th>590537</th>\n      <td>gmail.com</td>\n      <td>gmail.com</td>\n    </tr>\n    <tr>\n      <th>590538</th>\n      <td>aol.com</td>\n      <td>aol.com</td>\n    </tr>\n    <tr>\n      <th>590539</th>\n      <td>gmail.com</td>\n      <td>gmail.com</td>\n    </tr>\n  </tbody>\n</table>\n<p>590540 rows × 2 columns</p>\n</div>"
     },
     "execution_count": 17,
     "metadata": {},
     "output_type": "execute_result"
    }
   ],
   "source": [
    "aux['P_emaildomain'].fillna(value='missing',inplace=True)\n",
    "aux['R_emaildomain'].fillna(value='missing',inplace=True)\n",
    "aux[['P_emaildomain','R_emaildomain']]"
   ]
  },
  {
   "cell_type": "code",
   "execution_count": 18,
   "id": "cb879013-e185-475c-a9a4-c4c01400bc54",
   "metadata": {
    "pycharm": {
     "name": "#%%\n"
    }
   },
   "outputs": [
    {
     "name": "stdout",
     "output_type": "stream",
     "text": [
      "682\n",
      "23723\n",
      "2.87484719470556\n"
     ]
    }
   ],
   "source": [
    "print(((aux['P_emaildomain']!=aux['R_emaildomain']) & (aux['isFraud']==1) ).sum())\n",
    "print((aux['P_emaildomain']!=aux['R_emaildomain'] ).sum())\n",
    "print(682/23723*100) #fraud when different domains"
   ]
  },
  {
   "cell_type": "code",
   "execution_count": 19,
   "id": "871f4a13-09c2-4c80-bd57-123c23602d58",
   "metadata": {
    "pycharm": {
     "name": "#%%\n"
    }
   },
   "outputs": [
    {
     "data": {
      "text/plain": "array(['missing', 'gmail.com', 'outlook.com', 'yahoo.com', 'mail.com',\n       'anonymous.com', 'hotmail.com', 'verizon.net', 'aol.com', 'me.com',\n       'comcast.net', 'optonline.net', 'cox.net', 'charter.net',\n       'rocketmail.com', 'prodigy.net.mx', 'embarqmail.com', 'icloud.com',\n       'live.com.mx', 'gmail', 'live.com', 'att.net', 'juno.com',\n       'ymail.com', 'sbcglobal.net', 'bellsouth.net', 'msn.com', 'q.com',\n       'yahoo.com.mx', 'centurylink.net', 'servicios-ta.com',\n       'earthlink.net', 'hotmail.es', 'cfl.rr.com', 'roadrunner.com',\n       'netzero.net', 'gmx.de', 'suddenlink.net', 'aim.com',\n       'frontiernet.net', 'windstream.net', 'frontier.com', 'outlook.es',\n       'mac.com', 'netzero.com', 'web.de', 'scranton.edu', 'twc.com',\n       'cableone.net', 'yahoo.fr', 'yahoo.de', 'yahoo.es', 'sc.rr.com',\n       'ptd.net', 'live.fr', 'yahoo.co.uk', 'hotmail.fr', 'hotmail.de',\n       'hotmail.co.uk', 'protonmail.com', 'yahoo.co.jp'], dtype=object)"
     },
     "execution_count": 19,
     "metadata": {},
     "output_type": "execute_result"
    }
   ],
   "source": [
    "aux['P_emaildomain'].unique()"
   ]
  },
  {
   "cell_type": "code",
   "execution_count": 20,
   "outputs": [
    {
     "data": {
      "text/plain": "<AxesSubplot:ylabel='Density'>"
     },
     "execution_count": 20,
     "metadata": {},
     "output_type": "execute_result"
    },
    {
     "data": {
      "text/plain": "<Figure size 432x288 with 1 Axes>",
      "image/png": "[encoded data removed]"
     },
     "metadata": {},
     "output_type": "display_data"
    }
   ],
   "source": [
    "aux.plot(x='TransactionHour',y='isFraud',kind='kde')"
   ],
   "metadata": {
    "collapsed": false,
    "pycharm": {
     "name": "#%%\n"
    }
   }
  },
  {
   "cell_type": "code",
   "execution_count": 21,
   "id": "cc2b690f-9301-4315-9632-617148ac04f7",
   "metadata": {
    "pycharm": {
     "name": "#%%\n"
    }
   },
   "outputs": [
    {
     "data": {
      "text/plain": "        TransactionID  isFraud  TransactionAmt ProductCD  card1  card2  card3  \\\n203           2987203        1       445.00000         W  18268  583.0  150.0   \n240           2987240        1        37.09375         C  13413  103.0  185.0   \n243           2987243        1        37.09375         C  13413  103.0  185.0   \n245           2987245        1        37.09375         C  13413  103.0  185.0   \n288           2987288        1       155.50000         C  16578  545.0  185.0   \n...               ...      ...             ...       ...    ...    ...    ...   \n590361        3577361        1      1224.00000         W   3278  453.0  150.0   \n590364        3577364        1        69.93750         C   5812  408.0  185.0   \n590368        3577368        1       100.00000         H   6758  399.0  150.0   \n590372        3577372        1       117.00000         W  14037  111.0  150.0   \n590526        3577526        1       250.00000         R   1214  174.0  150.0   \n\n                   card4  card5   card6  ...      id_33           id_34  \\\n203                 visa  226.0  credit  ...        NaN             NaN   \n240                 visa  137.0  credit  ...        NaN             NaN   \n243                 visa  137.0  credit  ...        NaN             NaN   \n245                 visa  137.0  credit  ...        NaN             NaN   \n288                 visa  226.0  credit  ...        NaN             NaN   \n...                  ...    ...     ...  ...        ...             ...   \n590361              visa  226.0   debit  ...        NaN             NaN   \n590364        mastercard  224.0   debit  ...        NaN             NaN   \n590368  american express  146.0  credit  ...  2208x1242  match_status:1   \n590372              visa  226.0  credit  ...        NaN             NaN   \n590526              visa  226.0  credit  ...    855x480  match_status:2   \n\n        id_35 id_36 id_37  id_38  DeviceType                     DeviceInfo  \\\n203       NaN   NaN   NaN    NaN         NaN                            NaN   \n240         F     F     T      T      mobile      Redmi Note 4 Build/MMB29M   \n243         F     F     T      T      mobile      Redmi Note 4 Build/MMB29M   \n245         F     F     T      T      mobile      Redmi Note 4 Build/MMB29M   \n288         F     F     F      F      mobile                            NaN   \n...       ...   ...   ...    ...         ...                            ...   \n590361    NaN   NaN   NaN    NaN         NaN                            NaN   \n590364      F     F     T      F      mobile  SAMSUNG SM-J700M Build/MMB29K   \n590368      T     F     F      T      mobile                     iOS Device   \n590372    NaN   NaN   NaN    NaN         NaN                            NaN   \n590526      T     F     T      F      mobile            A574BL Build/NMF26F   \n\n        TransactionHour  TransactionDay  \n203            0.933333        1.038889  \n240            1.053611        1.043900  \n243            1.068333        1.044514  \n245            1.081944        1.045081  \n288            1.273889        1.053079  \n...                 ...             ...  \n590361        22.935556        0.955648  \n590364        22.976667        0.957361  \n590368        23.021389        0.959225  \n590372        23.043889        0.960162  \n590526        23.910000        0.996250  \n\n[20663 rows x 423 columns]",
      "text/html": "<div>\n<style scoped>\n    .dataframe tbody tr th:only-of-type {\n        vertical-align: middle;\n    }\n\n    .dataframe tbody tr th {\n        vertical-align: top;\n    }\n\n    .dataframe thead th {\n        text-align: right;\n    }\n</style>\n<table border=\"1\" class=\"dataframe\">\n  <thead>\n    <tr style=\"text-align: right;\">\n      <th></th>\n      <th>TransactionID</th>\n      <th>isFraud</th>\n      <th>TransactionAmt</th>\n      <th>ProductCD</th>\n      <th>card1</th>\n      <th>card2</th>\n      <th>card3</th>\n      <th>card4</th>\n      <th>card5</th>\n      <th>card6</th>\n      <th>...</th>\n      <th>id_33</th>\n      <th>id_34</th>\n      <th>id_35</th>\n      <th>id_36</th>\n      <th>id_37</th>\n      <th>id_38</th>\n      <th>DeviceType</th>\n      <th>DeviceInfo</th>\n      <th>TransactionHour</th>\n      <th>TransactionDay</th>\n    </tr>\n  </thead>\n  <tbody>\n    <tr>\n      <th>203</th>\n      <td>2987203</td>\n      <td>1</td>\n      <td>445.00000</td>\n      <td>W</td>\n      <td>18268</td>\n      <td>583.0</td>\n      <td>150.0</td>\n      <td>visa</td>\n      <td>226.0</td>\n      <td>credit</td>\n      <td>...</td>\n      <td>NaN</td>\n      <td>NaN</td>\n      <td>NaN</td>\n      <td>NaN</td>\n      <td>NaN</td>\n      <td>NaN</td>\n      <td>NaN</td>\n      <td>NaN</td>\n      <td>0.933333</td>\n      <td>1.038889</td>\n    </tr>\n    <tr>\n      <th>240</th>\n      <td>2987240</td>\n      <td>1</td>\n      <td>37.09375</td>\n      <td>C</td>\n      <td>13413</td>\n      <td>103.0</td>\n      <td>185.0</td>\n      <td>visa</td>\n      <td>137.0</td>\n      <td>credit</td>\n      <td>...</td>\n      <td>NaN</td>\n      <td>NaN</td>\n      <td>F</td>\n      <td>F</td>\n      <td>T</td>\n      <td>T</td>\n      <td>mobile</td>\n      <td>Redmi Note 4 Build/MMB29M</td>\n      <td>1.053611</td>\n      <td>1.043900</td>\n    </tr>\n    <tr>\n      <th>243</th>\n      <td>2987243</td>\n      <td>1</td>\n      <td>37.09375</td>\n      <td>C</td>\n      <td>13413</td>\n      <td>103.0</td>\n      <td>185.0</td>\n      <td>visa</td>\n      <td>137.0</td>\n      <td>credit</td>\n      <td>...</td>\n      <td>NaN</td>\n      <td>NaN</td>\n      <td>F</td>\n      <td>F</td>\n      <td>T</td>\n      <td>T</td>\n      <td>mobile</td>\n      <td>Redmi Note 4 Build/MMB29M</td>\n      <td>1.068333</td>\n      <td>1.044514</td>\n    </tr>\n    <tr>\n      <th>245</th>\n      <td>2987245</td>\n      <td>1</td>\n      <td>37.09375</td>\n      <td>C</td>\n      <td>13413</td>\n      <td>103.0</td>\n      <td>185.0</td>\n      <td>visa</td>\n      <td>137.0</td>\n      <td>credit</td>\n      <td>...</td>\n      <td>NaN</td>\n      <td>NaN</td>\n      <td>F</td>\n      <td>F</td>\n      <td>T</td>\n      <td>T</td>\n      <td>mobile</td>\n      <td>Redmi Note 4 Build/MMB29M</td>\n      <td>1.081944</td>\n      <td>1.045081</td>\n    </tr>\n    <tr>\n      <th>288</th>\n      <td>2987288</td>\n      <td>1</td>\n      <td>155.50000</td>\n      <td>C</td>\n      <td>16578</td>\n      <td>545.0</td>\n      <td>185.0</td>\n      <td>visa</td>\n      <td>226.0</td>\n      <td>credit</td>\n      <td>...</td>\n      <td>NaN</td>\n      <td>NaN</td>\n      <td>F</td>\n      <td>F</td>\n      <td>F</td>\n      <td>F</td>\n      <td>mobile</td>\n      <td>NaN</td>\n      <td>1.273889</td>\n      <td>1.053079</td>\n    </tr>\n    <tr>\n      <th>...</th>\n      <td>...</td>\n      <td>...</td>\n      <td>...</td>\n      <td>...</td>\n      <td>...</td>\n      <td>...</td>\n      <td>...</td>\n      <td>...</td>\n      <td>...</td>\n      <td>...</td>\n      <td>...</td>\n      <td>...</td>\n      <td>...</td>\n      <td>...</td>\n      <td>...</td>\n      <td>...</td>\n      <td>...</td>\n      <td>...</td>\n      <td>...</td>\n      <td>...</td>\n      <td>...</td>\n    </tr>\n    <tr>\n      <th>590361</th>\n      <td>3577361</td>\n      <td>1</td>\n      <td>1224.00000</td>\n      <td>W</td>\n      <td>3278</td>\n      <td>453.0</td>\n      <td>150.0</td>\n      <td>visa</td>\n      <td>226.0</td>\n      <td>debit</td>\n      <td>...</td>\n      <td>NaN</td>\n      <td>NaN</td>\n      <td>NaN</td>\n      <td>NaN</td>\n      <td>NaN</td>\n      <td>NaN</td>\n      <td>NaN</td>\n      <td>NaN</td>\n      <td>22.935556</td>\n      <td>0.955648</td>\n    </tr>\n    <tr>\n      <th>590364</th>\n      <td>3577364</td>\n      <td>1</td>\n      <td>69.93750</td>\n      <td>C</td>\n      <td>5812</td>\n      <td>408.0</td>\n      <td>185.0</td>\n      <td>mastercard</td>\n      <td>224.0</td>\n      <td>debit</td>\n      <td>...</td>\n      <td>NaN</td>\n      <td>NaN</td>\n      <td>F</td>\n      <td>F</td>\n      <td>T</td>\n      <td>F</td>\n      <td>mobile</td>\n      <td>SAMSUNG SM-J700M Build/MMB29K</td>\n      <td>22.976667</td>\n      <td>0.957361</td>\n    </tr>\n    <tr>\n      <th>590368</th>\n      <td>3577368</td>\n      <td>1</td>\n      <td>100.00000</td>\n      <td>H</td>\n      <td>6758</td>\n      <td>399.0</td>\n      <td>150.0</td>\n      <td>american express</td>\n      <td>146.0</td>\n      <td>credit</td>\n      <td>...</td>\n      <td>2208x1242</td>\n      <td>match_status:1</td>\n      <td>T</td>\n      <td>F</td>\n      <td>F</td>\n      <td>T</td>\n      <td>mobile</td>\n      <td>iOS Device</td>\n      <td>23.021389</td>\n      <td>0.959225</td>\n    </tr>\n    <tr>\n      <th>590372</th>\n      <td>3577372</td>\n      <td>1</td>\n      <td>117.00000</td>\n      <td>W</td>\n      <td>14037</td>\n      <td>111.0</td>\n      <td>150.0</td>\n      <td>visa</td>\n      <td>226.0</td>\n      <td>credit</td>\n      <td>...</td>\n      <td>NaN</td>\n      <td>NaN</td>\n      <td>NaN</td>\n      <td>NaN</td>\n      <td>NaN</td>\n      <td>NaN</td>\n      <td>NaN</td>\n      <td>NaN</td>\n      <td>23.043889</td>\n      <td>0.960162</td>\n    </tr>\n    <tr>\n      <th>590526</th>\n      <td>3577526</td>\n      <td>1</td>\n      <td>250.00000</td>\n      <td>R</td>\n      <td>1214</td>\n      <td>174.0</td>\n      <td>150.0</td>\n      <td>visa</td>\n      <td>226.0</td>\n      <td>credit</td>\n      <td>...</td>\n      <td>855x480</td>\n      <td>match_status:2</td>\n      <td>T</td>\n      <td>F</td>\n      <td>T</td>\n      <td>F</td>\n      <td>mobile</td>\n      <td>A574BL Build/NMF26F</td>\n      <td>23.910000</td>\n      <td>0.996250</td>\n    </tr>\n  </tbody>\n</table>\n<p>20663 rows × 423 columns</p>\n</div>"
     },
     "execution_count": 21,
     "metadata": {},
     "output_type": "execute_result"
    }
   ],
   "source": [
    "aux_isFraud=aux.copy()\n",
    "aux_isFraud=aux_isFraud.loc[aux_isFraud['isFraud']==True]\n",
    "aux_isFraud"
   ]
  },
  {
   "cell_type": "code",
   "execution_count": 22,
   "outputs": [],
   "source": [
    "aux_isFraud[\"TransactionHour\"] = np.floor(aux_isFraud[\"TransactionHour\"].astype(\"float32\")).astype(\"int8\").astype(\"category\")"
   ],
   "metadata": {
    "collapsed": false,
    "pycharm": {
     "name": "#%%\n"
    }
   }
  },
  {
   "cell_type": "code",
   "execution_count": 23,
   "outputs": [
    {
     "data": {
      "text/plain": "<Figure size 864x504 with 1 Axes>",
      "image/png": "[encoded data removed]"
     },
     "metadata": {},
     "output_type": "display_data"
    }
   ],
   "source": [
    "ax = aux_isFraud[\"TransactionHour\"].value_counts().sort_index().plot.bar(figsize=(12, 7))\n",
    "ax.set_title(\"Hourly Frauds\");"
   ],
   "metadata": {
    "collapsed": false,
    "pycharm": {
     "name": "#%%\n"
    }
   }
  },
  {
   "cell_type": "code",
   "execution_count": 24,
   "outputs": [],
   "source": [
    "aux_isFraud[\"TransactionDay\"] = np.floor(aux_isFraud[\"TransactionDay\"].astype(\"float32\")).astype(\"int8\").astype(\"category\")"
   ],
   "metadata": {
    "collapsed": false,
    "pycharm": {
     "name": "#%%\n"
    }
   }
  },
  {
   "cell_type": "code",
   "execution_count": 25,
   "outputs": [
    {
     "data": {
      "text/plain": "<Figure size 864x504 with 1 Axes>",
      "image/png": "[encoded data removed]"
     },
     "metadata": {},
     "output_type": "display_data"
    }
   ],
   "source": [
    "ax = aux_isFraud[\"TransactionDay\"].value_counts().sort_index().plot.bar(figsize=(12, 7))\n",
    "ax.set_title(\"Daily Frauds\");"
   ],
   "metadata": {
    "collapsed": false,
    "pycharm": {
     "name": "#%%\n"
    }
   }
  },
  {
   "cell_type": "code",
   "execution_count": 26,
   "id": "e5395a3e-91a2-436c-8abc-4a8df49fcf78",
   "metadata": {
    "pycharm": {
     "name": "#%%\n"
    }
   },
   "outputs": [],
   "source": [
    "aux['DifferentEmailDomain']=(aux['P_emaildomain'] != aux['R_emaildomain']).astype(int)\n",
    "aux.drop(['P_emaildomain'],axis=1,inplace=True)\n",
    "aux.drop(['R_emaildomain'],axis=1,inplace=True)"
   ]
  },
  {
   "cell_type": "code",
   "execution_count": 27,
   "id": "b99546d4-6bf7-4195-9d29-56db04270528",
   "metadata": {
    "pycharm": {
     "name": "#%%\n"
    }
   },
   "outputs": [
    {
     "data": {
      "text/plain": "   TransactionID  isFraud  TransactionAmt ProductCD  card1  card2  card3  \\\n0        2987000        0            68.5         W  13926    NaN  150.0   \n1        2987001        0            29.0         W   2755  404.0  150.0   \n2        2987002        0            59.0         W   4663  490.0  150.0   \n3        2987003        0            50.0         W  18132  567.0  150.0   \n4        2987004        0            50.0         H   4497  514.0  150.0   \n\n        card4  card5   card6  ...           id_34  id_35  id_36  id_37  id_38  \\\n0    discover  142.0  credit  ...             NaN    NaN    NaN    NaN    NaN   \n1  mastercard  102.0  credit  ...             NaN    NaN    NaN    NaN    NaN   \n2        visa  166.0   debit  ...             NaN    NaN    NaN    NaN    NaN   \n3  mastercard  117.0   debit  ...             NaN    NaN    NaN    NaN    NaN   \n4  mastercard  102.0  credit  ...  match_status:2      T      F      T      T   \n\n   DeviceType                     DeviceInfo  TransactionHour  TransactionDay  \\\n0         NaN                            NaN         0.000000        1.000000   \n1         NaN                            NaN         0.000278        1.000012   \n2         NaN                            NaN         0.019167        1.000799   \n3         NaN                            NaN         0.027500        1.001146   \n4      mobile  SAMSUNG SM-G892A Build/NRD90M         0.029444        1.001227   \n\n   DifferentEmailDomain  \n0                     0  \n1                     0  \n2                     0  \n3                     0  \n4                     0  \n\n[5 rows x 422 columns]",
      "text/html": "<div>\n<style scoped>\n    .dataframe tbody tr th:only-of-type {\n        vertical-align: middle;\n    }\n\n    .dataframe tbody tr th {\n        vertical-align: top;\n    }\n\n    .dataframe thead th {\n        text-align: right;\n    }\n</style>\n<table border=\"1\" class=\"dataframe\">\n  <thead>\n    <tr style=\"text-align: right;\">\n      <th></th>\n      <th>TransactionID</th>\n      <th>isFraud</th>\n      <th>TransactionAmt</th>\n      <th>ProductCD</th>\n      <th>card1</th>\n      <th>card2</th>\n      <th>card3</th>\n      <th>card4</th>\n      <th>card5</th>\n      <th>card6</th>\n      <th>...</th>\n      <th>id_34</th>\n      <th>id_35</th>\n      <th>id_36</th>\n      <th>id_37</th>\n      <th>id_38</th>\n      <th>DeviceType</th>\n      <th>DeviceInfo</th>\n      <th>TransactionHour</th>\n      <th>TransactionDay</th>\n      <th>DifferentEmailDomain</th>\n    </tr>\n  </thead>\n  <tbody>\n    <tr>\n      <th>0</th>\n      <td>2987000</td>\n      <td>0</td>\n      <td>68.5</td>\n      <td>W</td>\n      <td>13926</td>\n      <td>NaN</td>\n      <td>150.0</td>\n      <td>discover</td>\n      <td>142.0</td>\n      <td>credit</td>\n      <td>...</td>\n      <td>NaN</td>\n      <td>NaN</td>\n      <td>NaN</td>\n      <td>NaN</td>\n      <td>NaN</td>\n      <td>NaN</td>\n      <td>NaN</td>\n      <td>0.000000</td>\n      <td>1.000000</td>\n      <td>0</td>\n    </tr>\n    <tr>\n      <th>1</th>\n      <td>2987001</td>\n      <td>0</td>\n      <td>29.0</td>\n      <td>W</td>\n      <td>2755</td>\n      <td>404.0</td>\n      <td>150.0</td>\n      <td>mastercard</td>\n      <td>102.0</td>\n      <td>credit</td>\n      <td>...</td>\n      <td>NaN</td>\n      <td>NaN</td>\n      <td>NaN</td>\n      <td>NaN</td>\n      <td>NaN</td>\n      <td>NaN</td>\n      <td>NaN</td>\n      <td>0.000278</td>\n      <td>1.000012</td>\n      <td>0</td>\n    </tr>\n    <tr>\n      <th>2</th>\n      <td>2987002</td>\n      <td>0</td>\n      <td>59.0</td>\n      <td>W</td>\n      <td>4663</td>\n      <td>490.0</td>\n      <td>150.0</td>\n      <td>visa</td>\n      <td>166.0</td>\n      <td>debit</td>\n      <td>...</td>\n      <td>NaN</td>\n      <td>NaN</td>\n      <td>NaN</td>\n      <td>NaN</td>\n      <td>NaN</td>\n      <td>NaN</td>\n      <td>NaN</td>\n      <td>0.019167</td>\n      <td>1.000799</td>\n      <td>0</td>\n    </tr>\n    <tr>\n      <th>3</th>\n      <td>2987003</td>\n      <td>0</td>\n      <td>50.0</td>\n      <td>W</td>\n      <td>18132</td>\n      <td>567.0</td>\n      <td>150.0</td>\n      <td>mastercard</td>\n      <td>117.0</td>\n      <td>debit</td>\n      <td>...</td>\n      <td>NaN</td>\n      <td>NaN</td>\n      <td>NaN</td>\n      <td>NaN</td>\n      <td>NaN</td>\n      <td>NaN</td>\n      <td>NaN</td>\n      <td>0.027500</td>\n      <td>1.001146</td>\n      <td>0</td>\n    </tr>\n    <tr>\n      <th>4</th>\n      <td>2987004</td>\n      <td>0</td>\n      <td>50.0</td>\n      <td>H</td>\n      <td>4497</td>\n      <td>514.0</td>\n      <td>150.0</td>\n      <td>mastercard</td>\n      <td>102.0</td>\n      <td>credit</td>\n      <td>...</td>\n      <td>match_status:2</td>\n      <td>T</td>\n      <td>F</td>\n      <td>T</td>\n      <td>T</td>\n      <td>mobile</td>\n      <td>SAMSUNG SM-G892A Build/NRD90M</td>\n      <td>0.029444</td>\n      <td>1.001227</td>\n      <td>0</td>\n    </tr>\n  </tbody>\n</table>\n<p>5 rows × 422 columns</p>\n</div>"
     },
     "execution_count": 27,
     "metadata": {},
     "output_type": "execute_result"
    }
   ],
   "source": [
    "aux.head()"
   ]
  },
  {
   "cell_type": "code",
   "execution_count": 28,
   "id": "90c7badf-229f-4164-b1a5-feef5213b966",
   "metadata": {
    "pycharm": {
     "name": "#%%\n"
    }
   },
   "outputs": [
    {
     "data": {
      "text/plain": "   TransactionID  isFraud  TransactionAmt  card1  card2  card3  card5  addr1  \\\n0        2987000        0            68.5  13926    NaN  150.0  142.0  315.0   \n1        2987001        0            29.0   2755  404.0  150.0  102.0  325.0   \n2        2987002        0            59.0   4663  490.0  150.0  166.0  330.0   \n3        2987003        0            50.0  18132  567.0  150.0  117.0  476.0   \n4        2987004        0            50.0   4497  514.0  150.0  102.0  420.0   \n5        2987005        0            49.0   5937  555.0  150.0  226.0  272.0   \n6        2987006        0           159.0  12308  360.0  150.0  166.0  126.0   \n7        2987007        0           422.5  12695  490.0  150.0  226.0  325.0   \n8        2987008        0            15.0   2803  100.0  150.0  226.0  337.0   \n9        2987009        0           117.0  17399  111.0  150.0  224.0  204.0   \n\n   addr2  dist1  ...  id_15_cat  id_16_cat  id_28_cat  id_29_cat  id_34_cat  \\\n0   87.0   19.0  ...          3          2          2          2          4   \n1   87.0    NaN  ...          3          2          2          2          4   \n2   87.0  287.0  ...          3          2          2          2          4   \n3   87.0    NaN  ...          3          2          2          2          4   \n4   87.0    NaN  ...          1          1          1          1          3   \n5   87.0   36.0  ...          3          2          2          2          4   \n6   87.0    0.0  ...          3          2          2          2          4   \n7   87.0    NaN  ...          3          2          2          2          4   \n8   87.0    NaN  ...          1          1          1          1          2   \n9   87.0   19.0  ...          3          2          2          2          4   \n\n   id_35_cat  id_36_cat  id_37_cat  id_38_cat  DeviceType_cat  \n0          2          2          2          2               1  \n1          2          2          2          2               1  \n2          2          2          2          2               1  \n3          2          2          2          2               1  \n4          1          0          1          1               2  \n5          2          2          2          2               1  \n6          2          2          2          2               1  \n7          2          2          2          2               1  \n8          1          0          0          1               2  \n9          2          2          2          2               1  \n\n[10 rows x 418 columns]",
      "text/html": "<div>\n<style scoped>\n    .dataframe tbody tr th:only-of-type {\n        vertical-align: middle;\n    }\n\n    .dataframe tbody tr th {\n        vertical-align: top;\n    }\n\n    .dataframe thead th {\n        text-align: right;\n    }\n</style>\n<table border=\"1\" class=\"dataframe\">\n  <thead>\n    <tr style=\"text-align: right;\">\n      <th></th>\n      <th>TransactionID</th>\n      <th>isFraud</th>\n      <th>TransactionAmt</th>\n      <th>card1</th>\n      <th>card2</th>\n      <th>card3</th>\n      <th>card5</th>\n      <th>addr1</th>\n      <th>addr2</th>\n      <th>dist1</th>\n      <th>...</th>\n      <th>id_15_cat</th>\n      <th>id_16_cat</th>\n      <th>id_28_cat</th>\n      <th>id_29_cat</th>\n      <th>id_34_cat</th>\n      <th>id_35_cat</th>\n      <th>id_36_cat</th>\n      <th>id_37_cat</th>\n      <th>id_38_cat</th>\n      <th>DeviceType_cat</th>\n    </tr>\n  </thead>\n  <tbody>\n    <tr>\n      <th>0</th>\n      <td>2987000</td>\n      <td>0</td>\n      <td>68.5</td>\n      <td>13926</td>\n      <td>NaN</td>\n      <td>150.0</td>\n      <td>142.0</td>\n      <td>315.0</td>\n      <td>87.0</td>\n      <td>19.0</td>\n      <td>...</td>\n      <td>3</td>\n      <td>2</td>\n      <td>2</td>\n      <td>2</td>\n      <td>4</td>\n      <td>2</td>\n      <td>2</td>\n      <td>2</td>\n      <td>2</td>\n      <td>1</td>\n    </tr>\n    <tr>\n      <th>1</th>\n      <td>2987001</td>\n      <td>0</td>\n      <td>29.0</td>\n      <td>2755</td>\n      <td>404.0</td>\n      <td>150.0</td>\n      <td>102.0</td>\n      <td>325.0</td>\n      <td>87.0</td>\n      <td>NaN</td>\n      <td>...</td>\n      <td>3</td>\n      <td>2</td>\n      <td>2</td>\n      <td>2</td>\n      <td>4</td>\n      <td>2</td>\n      <td>2</td>\n      <td>2</td>\n      <td>2</td>\n      <td>1</td>\n    </tr>\n    <tr>\n      <th>2</th>\n      <td>2987002</td>\n      <td>0</td>\n      <td>59.0</td>\n      <td>4663</td>\n      <td>490.0</td>\n      <td>150.0</td>\n      <td>166.0</td>\n      <td>330.0</td>\n      <td>87.0</td>\n      <td>287.0</td>\n      <td>...</td>\n      <td>3</td>\n      <td>2</td>\n      <td>2</td>\n      <td>2</td>\n      <td>4</td>\n      <td>2</td>\n      <td>2</td>\n      <td>2</td>\n      <td>2</td>\n      <td>1</td>\n    </tr>\n    <tr>\n      <th>3</th>\n      <td>2987003</td>\n      <td>0</td>\n      <td>50.0</td>\n      <td>18132</td>\n      <td>567.0</td>\n      <td>150.0</td>\n      <td>117.0</td>\n      <td>476.0</td>\n      <td>87.0</td>\n      <td>NaN</td>\n      <td>...</td>\n      <td>3</td>\n      <td>2</td>\n      <td>2</td>\n      <td>2</td>\n      <td>4</td>\n      <td>2</td>\n      <td>2</td>\n      <td>2</td>\n      <td>2</td>\n      <td>1</td>\n    </tr>\n    <tr>\n      <th>4</th>\n      <td>2987004</td>\n      <td>0</td>\n      <td>50.0</td>\n      <td>4497</td>\n      <td>514.0</td>\n      <td>150.0</td>\n      <td>102.0</td>\n      <td>420.0</td>\n      <td>87.0</td>\n      <td>NaN</td>\n      <td>...</td>\n      <td>1</td>\n      <td>1</td>\n      <td>1</td>\n      <td>1</td>\n      <td>3</td>\n      <td>1</td>\n      <td>0</td>\n      <td>1</td>\n      <td>1</td>\n      <td>2</td>\n    </tr>\n    <tr>\n      <th>5</th>\n      <td>2987005</td>\n      <td>0</td>\n      <td>49.0</td>\n      <td>5937</td>\n      <td>555.0</td>\n      <td>150.0</td>\n      <td>226.0</td>\n      <td>272.0</td>\n      <td>87.0</td>\n      <td>36.0</td>\n      <td>...</td>\n      <td>3</td>\n      <td>2</td>\n      <td>2</td>\n      <td>2</td>\n      <td>4</td>\n      <td>2</td>\n      <td>2</td>\n      <td>2</td>\n      <td>2</td>\n      <td>1</td>\n    </tr>\n    <tr>\n      <th>6</th>\n      <td>2987006</td>\n      <td>0</td>\n      <td>159.0</td>\n      <td>12308</td>\n      <td>360.0</td>\n      <td>150.0</td>\n      <td>166.0</td>\n      <td>126.0</td>\n      <td>87.0</td>\n      <td>0.0</td>\n      <td>...</td>\n      <td>3</td>\n      <td>2</td>\n      <td>2</td>\n      <td>2</td>\n      <td>4</td>\n      <td>2</td>\n      <td>2</td>\n      <td>2</td>\n      <td>2</td>\n      <td>1</td>\n    </tr>\n    <tr>\n      <th>7</th>\n      <td>2987007</td>\n      <td>0</td>\n      <td>422.5</td>\n      <td>12695</td>\n      <td>490.0</td>\n      <td>150.0</td>\n      <td>226.0</td>\n      <td>325.0</td>\n      <td>87.0</td>\n      <td>NaN</td>\n      <td>...</td>\n      <td>3</td>\n      <td>2</td>\n      <td>2</td>\n      <td>2</td>\n      <td>4</td>\n      <td>2</td>\n      <td>2</td>\n      <td>2</td>\n      <td>2</td>\n      <td>1</td>\n    </tr>\n    <tr>\n      <th>8</th>\n      <td>2987008</td>\n      <td>0</td>\n      <td>15.0</td>\n      <td>2803</td>\n      <td>100.0</td>\n      <td>150.0</td>\n      <td>226.0</td>\n      <td>337.0</td>\n      <td>87.0</td>\n      <td>NaN</td>\n      <td>...</td>\n      <td>1</td>\n      <td>1</td>\n      <td>1</td>\n      <td>1</td>\n      <td>2</td>\n      <td>1</td>\n      <td>0</td>\n      <td>0</td>\n      <td>1</td>\n      <td>2</td>\n    </tr>\n    <tr>\n      <th>9</th>\n      <td>2987009</td>\n      <td>0</td>\n      <td>117.0</td>\n      <td>17399</td>\n      <td>111.0</td>\n      <td>150.0</td>\n      <td>224.0</td>\n      <td>204.0</td>\n      <td>87.0</td>\n      <td>19.0</td>\n      <td>...</td>\n      <td>3</td>\n      <td>2</td>\n      <td>2</td>\n      <td>2</td>\n      <td>4</td>\n      <td>2</td>\n      <td>2</td>\n      <td>2</td>\n      <td>2</td>\n      <td>1</td>\n    </tr>\n  </tbody>\n</table>\n<p>10 rows × 418 columns</p>\n</div>"
     },
     "execution_count": 28,
     "metadata": {},
     "output_type": "execute_result"
    }
   ],
   "source": [
    "remain_string=aux.select_dtypes(include=[\"object\"]).columns.tolist()\n",
    "for col in remain_string :\n",
    "    if len(aux[col].unique()) > 5 :\n",
    "        aux.drop(col,axis=1,inplace=True)\n",
    "\n",
    "remain_string=aux.select_dtypes(include=[\"object\"]).columns.tolist()\n",
    "for col in remain_string:\n",
    "    aux[col].fillna(value=\"missing\",inplace=True)\n",
    "    aux[col]=aux[col].astype('category')\n",
    "\n",
    "    aux[col+'_cat']=aux[col].cat.codes\n",
    "    aux.drop(col,axis=1,inplace=True)\n",
    "aux.head(n=10)"
   ]
  },
  {
   "cell_type": "code",
   "execution_count": 29,
   "id": "569ae15c-4ad1-430d-9d87-ef93e1d1990d",
   "metadata": {
    "pycharm": {
     "name": "#%%\n"
    }
   },
   "outputs": [],
   "source": [
    "remain_string=aux.select_dtypes(include=[\"object\"]).columns.tolist()"
   ]
  },
  {
   "cell_type": "code",
   "execution_count": 30,
   "id": "af2eefab-0905-4660-8d35-b5dccc978119",
   "metadata": {
    "pycharm": {
     "name": "#%%\n"
    }
   },
   "outputs": [
    {
     "data": {
      "text/plain": "       TransactionID        isFraud  TransactionAmt          card1     card2  \\\ncount   5.905400e+05  590540.000000   590540.000000  590540.000000  581607.0   \nmean    3.282270e+06       0.034990             NaN    9898.734658       NaN   \nstd     1.704744e+05       0.183755             NaN    4901.170153       NaN   \nmin     2.987000e+06       0.000000        0.250977    1000.000000     100.0   \n25%     3.134635e+06       0.000000       43.312500    6019.000000     214.0   \n50%     3.282270e+06       0.000000       68.750000    9678.000000     361.0   \n75%     3.429904e+06       0.000000      125.000000   14184.000000     512.0   \nmax     3.577539e+06       1.000000    31936.000000   18396.000000     600.0   \n\n          card3     card5     addr1     addr2     dist1  ...      id_15_cat  \\\ncount  588975.0  586281.0  524834.0  524834.0  238269.0  ...  590540.000000   \nmean        NaN       NaN       NaN       NaN       NaN  ...       2.427553   \nstd         0.0       0.0       NaN       0.0       NaN  ...       1.068432   \nmin       100.0     100.0     100.0      10.0       0.0  ...       0.000000   \n25%       150.0     166.0     204.0      87.0       3.0  ...       3.000000   \n50%       150.0     226.0     299.0      87.0       8.0  ...       3.000000   \n75%       150.0     226.0     330.0      87.0      24.0  ...       3.000000   \nmax       231.0     237.0     540.0     102.0   10288.0  ...       3.000000   \n\n           id_16_cat      id_28_cat      id_29_cat      id_34_cat  \\\ncount  590540.000000  590540.000000  590540.000000  590540.000000   \nmean        1.668669       1.632184       1.634396       3.837403   \nstd         0.667962       0.700504       0.696917       0.446413   \nmin         0.000000       0.000000       0.000000       0.000000   \n25%         2.000000       2.000000       2.000000       4.000000   \n50%         2.000000       2.000000       2.000000       4.000000   \n75%         2.000000       2.000000       2.000000       4.000000   \nmax         2.000000       2.000000       2.000000       4.000000   \n\n           id_35_cat      id_36_cat      id_37_cat      id_38_cat  \\\ncount  590540.000000  590540.000000  590540.000000  590540.000000   \nmean        1.654289       1.534238       1.709557       1.636084   \nstd         0.663430       0.838376       0.556321       0.694144   \nmin         0.000000       0.000000       0.000000       0.000000   \n25%         2.000000       2.000000       2.000000       2.000000   \n50%         2.000000       2.000000       2.000000       2.000000   \n75%         2.000000       2.000000       2.000000       2.000000   \nmax         2.000000       2.000000       2.000000       2.000000   \n\n       DeviceType_cat  \ncount   590540.000000  \nmean         0.950012  \nstd          0.485741  \nmin          0.000000  \n25%          1.000000  \n50%          1.000000  \n75%          1.000000  \nmax          2.000000  \n\n[8 rows x 418 columns]",
      "text/html": "<div>\n<style scoped>\n    .dataframe tbody tr th:only-of-type {\n        vertical-align: middle;\n    }\n\n    .dataframe tbody tr th {\n        vertical-align: top;\n    }\n\n    .dataframe thead th {\n        text-align: right;\n    }\n</style>\n<table border=\"1\" class=\"dataframe\">\n  <thead>\n    <tr style=\"text-align: right;\">\n      <th></th>\n      <th>TransactionID</th>\n      <th>isFraud</th>\n      <th>TransactionAmt</th>\n      <th>card1</th>\n      <th>card2</th>\n      <th>card3</th>\n      <th>card5</th>\n      <th>addr1</th>\n      <th>addr2</th>\n      <th>dist1</th>\n      <th>...</th>\n      <th>id_15_cat</th>\n      <th>id_16_cat</th>\n      <th>id_28_cat</th>\n      <th>id_29_cat</th>\n      <th>id_34_cat</th>\n      <th>id_35_cat</th>\n      <th>id_36_cat</th>\n      <th>id_37_cat</th>\n      <th>id_38_cat</th>\n      <th>DeviceType_cat</th>\n    </tr>\n  </thead>\n  <tbody>\n    <tr>\n      <th>count</th>\n      <td>5.905400e+05</td>\n      <td>590540.000000</td>\n      <td>590540.000000</td>\n      <td>590540.000000</td>\n      <td>581607.0</td>\n      <td>588975.0</td>\n      <td>586281.0</td>\n      <td>524834.0</td>\n      <td>524834.0</td>\n      <td>238269.0</td>\n      <td>...</td>\n      <td>590540.000000</td>\n      <td>590540.000000</td>\n      <td>590540.000000</td>\n      <td>590540.000000</td>\n      <td>590540.000000</td>\n      <td>590540.000000</td>\n      <td>590540.000000</td>\n      <td>590540.000000</td>\n      <td>590540.000000</td>\n      <td>590540.000000</td>\n    </tr>\n    <tr>\n      <th>mean</th>\n      <td>3.282270e+06</td>\n      <td>0.034990</td>\n      <td>NaN</td>\n      <td>9898.734658</td>\n      <td>NaN</td>\n      <td>NaN</td>\n      <td>NaN</td>\n      <td>NaN</td>\n      <td>NaN</td>\n      <td>NaN</td>\n      <td>...</td>\n      <td>2.427553</td>\n      <td>1.668669</td>\n      <td>1.632184</td>\n      <td>1.634396</td>\n      <td>3.837403</td>\n      <td>1.654289</td>\n      <td>1.534238</td>\n      <td>1.709557</td>\n      <td>1.636084</td>\n      <td>0.950012</td>\n    </tr>\n    <tr>\n      <th>std</th>\n      <td>1.704744e+05</td>\n      <td>0.183755</td>\n      <td>NaN</td>\n      <td>4901.170153</td>\n      <td>NaN</td>\n      <td>0.0</td>\n      <td>0.0</td>\n      <td>NaN</td>\n      <td>0.0</td>\n      <td>NaN</td>\n      <td>...</td>\n      <td>1.068432</td>\n      <td>0.667962</td>\n      <td>0.700504</td>\n      <td>0.696917</td>\n      <td>0.446413</td>\n      <td>0.663430</td>\n      <td>0.838376</td>\n      <td>0.556321</td>\n      <td>0.694144</td>\n      <td>0.485741</td>\n    </tr>\n    <tr>\n      <th>min</th>\n      <td>2.987000e+06</td>\n      <td>0.000000</td>\n      <td>0.250977</td>\n      <td>1000.000000</td>\n      <td>100.0</td>\n      <td>100.0</td>\n      <td>100.0</td>\n      <td>100.0</td>\n      <td>10.0</td>\n      <td>0.0</td>\n      <td>...</td>\n      <td>0.000000</td>\n      <td>0.000000</td>\n      <td>0.000000</td>\n      <td>0.000000</td>\n      <td>0.000000</td>\n      <td>0.000000</td>\n      <td>0.000000</td>\n      <td>0.000000</td>\n      <td>0.000000</td>\n      <td>0.000000</td>\n    </tr>\n    <tr>\n      <th>25%</th>\n      <td>3.134635e+06</td>\n      <td>0.000000</td>\n      <td>43.312500</td>\n      <td>6019.000000</td>\n      <td>214.0</td>\n      <td>150.0</td>\n      <td>166.0</td>\n      <td>204.0</td>\n      <td>87.0</td>\n      <td>3.0</td>\n      <td>...</td>\n      <td>3.000000</td>\n      <td>2.000000</td>\n      <td>2.000000</td>\n      <td>2.000000</td>\n      <td>4.000000</td>\n      <td>2.000000</td>\n      <td>2.000000</td>\n      <td>2.000000</td>\n      <td>2.000000</td>\n      <td>1.000000</td>\n    </tr>\n    <tr>\n      <th>50%</th>\n      <td>3.282270e+06</td>\n      <td>0.000000</td>\n      <td>68.750000</td>\n      <td>9678.000000</td>\n      <td>361.0</td>\n      <td>150.0</td>\n      <td>226.0</td>\n      <td>299.0</td>\n      <td>87.0</td>\n      <td>8.0</td>\n      <td>...</td>\n      <td>3.000000</td>\n      <td>2.000000</td>\n      <td>2.000000</td>\n      <td>2.000000</td>\n      <td>4.000000</td>\n      <td>2.000000</td>\n      <td>2.000000</td>\n      <td>2.000000</td>\n      <td>2.000000</td>\n      <td>1.000000</td>\n    </tr>\n    <tr>\n      <th>75%</th>\n      <td>3.429904e+06</td>\n      <td>0.000000</td>\n      <td>125.000000</td>\n      <td>14184.000000</td>\n      <td>512.0</td>\n      <td>150.0</td>\n      <td>226.0</td>\n      <td>330.0</td>\n      <td>87.0</td>\n      <td>24.0</td>\n      <td>...</td>\n      <td>3.000000</td>\n      <td>2.000000</td>\n      <td>2.000000</td>\n      <td>2.000000</td>\n      <td>4.000000</td>\n      <td>2.000000</td>\n      <td>2.000000</td>\n      <td>2.000000</td>\n      <td>2.000000</td>\n      <td>1.000000</td>\n    </tr>\n    <tr>\n      <th>max</th>\n      <td>3.577539e+06</td>\n      <td>1.000000</td>\n      <td>31936.000000</td>\n      <td>18396.000000</td>\n      <td>600.0</td>\n      <td>231.0</td>\n      <td>237.0</td>\n      <td>540.0</td>\n      <td>102.0</td>\n      <td>10288.0</td>\n      <td>...</td>\n      <td>3.000000</td>\n      <td>2.000000</td>\n      <td>2.000000</td>\n      <td>2.000000</td>\n      <td>4.000000</td>\n      <td>2.000000</td>\n      <td>2.000000</td>\n      <td>2.000000</td>\n      <td>2.000000</td>\n      <td>2.000000</td>\n    </tr>\n  </tbody>\n</table>\n<p>8 rows × 418 columns</p>\n</div>"
     },
     "execution_count": 30,
     "metadata": {},
     "output_type": "execute_result"
    }
   ],
   "source": [
    "aux.describe()"
   ]
  },
  {
   "cell_type": "code",
   "execution_count": 31,
   "id": "918363ec-eb80-4ead-bf39-1525744211f3",
   "metadata": {
    "pycharm": {
     "name": "#%%\n"
    }
   },
   "outputs": [],
   "source": [
    "columns_list = aux.columns.values.tolist()"
   ]
  },
  {
   "cell_type": "code",
   "execution_count": 32,
   "outputs": [],
   "source": [
    "from typing import Union\n",
    "\n",
    "\n",
    "def fill_nans(df: pd.DataFrame, operation: Union[str, float, int] = \"mean\") -> pd.DataFrame:\n",
    "    if isinstance(operation, str):\n",
    "        assert operation in (\"mean\", \"median\")\n",
    "\n",
    "    is_na_columns = df.isnull().any(axis=0)\n",
    "    columns_with_na = is_na_columns[is_na_columns == True].index\n",
    "    df_with_nans = df[columns_with_na]\n",
    "    df_with_nans = df_with_nans.astype(\"float32\")\n",
    "    if isinstance(operation, str):\n",
    "        if operation == \"mean\":\n",
    "            fill_values = df_with_nans.mean(axis=0, skipna=True)\n",
    "        else:\n",
    "            fill_values = df_with_nans.median(axis=0, skipna=True)\n",
    "\n",
    "        for column in columns_with_na:\n",
    "            df[column] = df[column].fillna(fill_values[column])\n",
    "    else:\n",
    "        fill_value = operation\n",
    "        df[columns_with_na] = df[columns_with_na].fillna(fill_value)\n",
    "\n",
    "    return df\n"
   ],
   "metadata": {
    "collapsed": false,
    "pycharm": {
     "name": "#%%\n"
    }
   }
  },
  {
   "cell_type": "code",
   "execution_count": 33,
   "outputs": [
    {
     "name": "stdout",
     "output_type": "stream",
     "text": [
      "0\n"
     ]
    }
   ],
   "source": [
    "aux = fill_nans(aux, operation=\"mean\")\n",
    "print(aux.isna().sum().sum())"
   ],
   "metadata": {
    "collapsed": false,
    "pycharm": {
     "name": "#%%\n"
    }
   }
  },
  {
   "cell_type": "code",
   "execution_count": 34,
   "outputs": [
    {
     "data": {
      "text/plain": "   TransactionID  isFraud  TransactionAmt  card1  card2  card3  card5  addr1  \\\n0        2987000        0            68.5  13926  362.5  150.0  142.0  315.0   \n1        2987001        0            29.0   2755  404.0  150.0  102.0  325.0   \n2        2987002        0            59.0   4663  490.0  150.0  166.0  330.0   \n3        2987003        0            50.0  18132  567.0  150.0  117.0  476.0   \n4        2987004        0            50.0   4497  514.0  150.0  102.0  420.0   \n\n   addr2  dist1  ...  id_15_cat  id_16_cat  id_28_cat  id_29_cat  id_34_cat  \\\n0   87.0   19.0  ...          3          2          2          2          4   \n1   87.0  118.5  ...          3          2          2          2          4   \n2   87.0  287.0  ...          3          2          2          2          4   \n3   87.0  118.5  ...          3          2          2          2          4   \n4   87.0  118.5  ...          1          1          1          1          3   \n\n   id_35_cat  id_36_cat  id_37_cat  id_38_cat  DeviceType_cat  \n0          2          2          2          2               1  \n1          2          2          2          2               1  \n2          2          2          2          2               1  \n3          2          2          2          2               1  \n4          1          0          1          1               2  \n\n[5 rows x 418 columns]",
      "text/html": "<div>\n<style scoped>\n    .dataframe tbody tr th:only-of-type {\n        vertical-align: middle;\n    }\n\n    .dataframe tbody tr th {\n        vertical-align: top;\n    }\n\n    .dataframe thead th {\n        text-align: right;\n    }\n</style>\n<table border=\"1\" class=\"dataframe\">\n  <thead>\n    <tr style=\"text-align: right;\">\n      <th></th>\n      <th>TransactionID</th>\n      <th>isFraud</th>\n      <th>TransactionAmt</th>\n      <th>card1</th>\n      <th>card2</th>\n      <th>card3</th>\n      <th>card5</th>\n      <th>addr1</th>\n      <th>addr2</th>\n      <th>dist1</th>\n      <th>...</th>\n      <th>id_15_cat</th>\n      <th>id_16_cat</th>\n      <th>id_28_cat</th>\n      <th>id_29_cat</th>\n      <th>id_34_cat</th>\n      <th>id_35_cat</th>\n      <th>id_36_cat</th>\n      <th>id_37_cat</th>\n      <th>id_38_cat</th>\n      <th>DeviceType_cat</th>\n    </tr>\n  </thead>\n  <tbody>\n    <tr>\n      <th>0</th>\n      <td>2987000</td>\n      <td>0</td>\n      <td>68.5</td>\n      <td>13926</td>\n      <td>362.5</td>\n      <td>150.0</td>\n      <td>142.0</td>\n      <td>315.0</td>\n      <td>87.0</td>\n      <td>19.0</td>\n      <td>...</td>\n      <td>3</td>\n      <td>2</td>\n      <td>2</td>\n      <td>2</td>\n      <td>4</td>\n      <td>2</td>\n      <td>2</td>\n      <td>2</td>\n      <td>2</td>\n      <td>1</td>\n    </tr>\n    <tr>\n      <th>1</th>\n      <td>2987001</td>\n      <td>0</td>\n      <td>29.0</td>\n      <td>2755</td>\n      <td>404.0</td>\n      <td>150.0</td>\n      <td>102.0</td>\n      <td>325.0</td>\n      <td>87.0</td>\n      <td>118.5</td>\n      <td>...</td>\n      <td>3</td>\n      <td>2</td>\n      <td>2</td>\n      <td>2</td>\n      <td>4</td>\n      <td>2</td>\n      <td>2</td>\n      <td>2</td>\n      <td>2</td>\n      <td>1</td>\n    </tr>\n    <tr>\n      <th>2</th>\n      <td>2987002</td>\n      <td>0</td>\n      <td>59.0</td>\n      <td>4663</td>\n      <td>490.0</td>\n      <td>150.0</td>\n      <td>166.0</td>\n      <td>330.0</td>\n      <td>87.0</td>\n      <td>287.0</td>\n      <td>...</td>\n      <td>3</td>\n      <td>2</td>\n      <td>2</td>\n      <td>2</td>\n      <td>4</td>\n      <td>2</td>\n      <td>2</td>\n      <td>2</td>\n      <td>2</td>\n      <td>1</td>\n    </tr>\n    <tr>\n      <th>3</th>\n      <td>2987003</td>\n      <td>0</td>\n      <td>50.0</td>\n      <td>18132</td>\n      <td>567.0</td>\n      <td>150.0</td>\n      <td>117.0</td>\n      <td>476.0</td>\n      <td>87.0</td>\n      <td>118.5</td>\n      <td>...</td>\n      <td>3</td>\n      <td>2</td>\n      <td>2</td>\n      <td>2</td>\n      <td>4</td>\n      <td>2</td>\n      <td>2</td>\n      <td>2</td>\n      <td>2</td>\n      <td>1</td>\n    </tr>\n    <tr>\n      <th>4</th>\n      <td>2987004</td>\n      <td>0</td>\n      <td>50.0</td>\n      <td>4497</td>\n      <td>514.0</td>\n      <td>150.0</td>\n      <td>102.0</td>\n      <td>420.0</td>\n      <td>87.0</td>\n      <td>118.5</td>\n      <td>...</td>\n      <td>1</td>\n      <td>1</td>\n      <td>1</td>\n      <td>1</td>\n      <td>3</td>\n      <td>1</td>\n      <td>0</td>\n      <td>1</td>\n      <td>1</td>\n      <td>2</td>\n    </tr>\n  </tbody>\n</table>\n<p>5 rows × 418 columns</p>\n</div>"
     },
     "execution_count": 34,
     "metadata": {},
     "output_type": "execute_result"
    }
   ],
   "source": [
    "aux.head()"
   ],
   "metadata": {
    "collapsed": false,
    "pycharm": {
     "name": "#%%\n"
    }
   }
  },
  {
   "cell_type": "code",
   "execution_count": 35,
   "id": "cacb088c-eb8d-4f2c-803c-825888a9ba2b",
   "metadata": {
    "pycharm": {
     "name": "#%%\n"
    }
   },
   "outputs": [],
   "source": [
    "corr_mat=aux.corr().abs()"
   ]
  },
  {
   "cell_type": "code",
   "execution_count": 36,
   "id": "0e849f94-cdc6-4c86-8bc8-05b07d8df42f",
   "metadata": {
    "pycharm": {
     "name": "#%%\n"
    }
   },
   "outputs": [],
   "source": [
    "upper_tri = corr_mat.where(np.triu(np.ones(corr_mat.shape),k=1).astype(bool))"
   ]
  },
  {
   "cell_type": "code",
   "execution_count": 37,
   "id": "22e8180f-4550-4998-8b87-9ff038bd16d9",
   "metadata": {
    "pycharm": {
     "name": "#%%\n"
    }
   },
   "outputs": [
    {
     "name": "stdout",
     "output_type": "stream",
     "text": [
      "184\n",
      "['C2', 'C4', 'C6', 'C7', 'C8', 'C9', 'C10', 'C11', 'C12', 'C14', 'V5', 'V11', 'V13', 'V16', 'V18', 'V20', 'V21', 'V22', 'V28', 'V30', 'V31', 'V32', 'V33', 'V34', 'V36', 'V40', 'V43', 'V45', 'V49', 'V50', 'V51', 'V52', 'V54', 'V57', 'V58', 'V60', 'V63', 'V64', 'V69', 'V70', 'V71', 'V72', 'V73', 'V74', 'V76', 'V79', 'V81', 'V84', 'V85', 'V90', 'V91', 'V92', 'V93', 'V94', 'V96', 'V97', 'V101', 'V102', 'V103', 'V105', 'V106', 'V113', 'V126', 'V127', 'V128', 'V132', 'V133', 'V134', 'V137', 'V140', 'V143', 'V145', 'V147', 'V149', 'V150', 'V151', 'V152', 'V153', 'V154', 'V155', 'V156', 'V157', 'V158', 'V159', 'V160', 'V163', 'V164', 'V167', 'V168', 'V177', 'V178', 'V179', 'V182', 'V183', 'V190', 'V192', 'V193', 'V196', 'V197', 'V198', 'V199', 'V201', 'V202', 'V203', 'V204', 'V207', 'V211', 'V212', 'V213', 'V216', 'V218', 'V219', 'V222', 'V225', 'V231', 'V232', 'V233', 'V236', 'V237', 'V239', 'V243', 'V244', 'V245', 'V249', 'V251', 'V253', 'V254', 'V256', 'V257', 'V259', 'V265', 'V266', 'V269', 'V271', 'V272', 'V273', 'V274', 'V275', 'V278', 'V279', 'V280', 'V292', 'V293', 'V294', 'V295', 'V296', 'V297', 'V298', 'V299', 'V301', 'V304', 'V306', 'V307', 'V308', 'V309', 'V315', 'V316', 'V317', 'V318', 'V321', 'V322', 'V323', 'V324', 'V327', 'V329', 'V330', 'V331', 'V332', 'V333', 'V334', 'V336', 'V339', 'M2_cat', 'M3_cat', 'M8_cat', 'M9_cat', 'id_15_cat', 'id_16_cat', 'id_28_cat', 'id_29_cat', 'id_35_cat', 'id_36_cat', 'id_37_cat', 'id_38_cat']\n"
     ]
    }
   ],
   "source": [
    "to_drop = [column for column in upper_tri.columns if any(upper_tri[column] > 0.90)]\n",
    "print(len(to_drop))\n",
    "print(to_drop)"
   ]
  },
  {
   "cell_type": "code",
   "execution_count": 38,
   "id": "3fcb3830-a8ca-4b4c-a68d-a09fd1b092d4",
   "metadata": {
    "pycharm": {
     "name": "#%%\n"
    }
   },
   "outputs": [
    {
     "data": {
      "text/plain": "    TransactionID  isFraud  TransactionAmt  card1  card2  card3  card5  \\\n0         2987000        0          68.500  13926  362.5  150.0  142.0   \n1         2987001        0          29.000   2755  404.0  150.0  102.0   \n2         2987002        0          59.000   4663  490.0  150.0  166.0   \n3         2987003        0          50.000  18132  567.0  150.0  117.0   \n4         2987004        0          50.000   4497  514.0  150.0  102.0   \n5         2987005        0          49.000   5937  555.0  150.0  226.0   \n6         2987006        0         159.000  12308  360.0  150.0  166.0   \n7         2987007        0         422.500  12695  490.0  150.0  226.0   \n8         2987008        0          15.000   2803  100.0  150.0  226.0   \n9         2987009        0         117.000  17399  111.0  150.0  224.0   \n10        2987010        0          75.875  16496  352.0  117.0  134.0   \n11        2987011        0          16.500   4461  375.0  185.0  224.0   \n12        2987012        0          50.000   3786  418.0  150.0  226.0   \n13        2987013        0          40.000  12866  303.0  150.0  226.0   \n14        2987014        0          10.500  11839  490.0  150.0  226.0   \n\n     addr1    addr2  dist1  ...  card4_cat  card6_cat  M1_cat  M4_cat  M5_cat  \\\n0   315.00  87.0000   19.0  ...          1          1       1       2       0   \n1   325.00  87.0000  118.5  ...          2          1       2       0       1   \n2   330.00  87.0000  287.0  ...          4          2       1       0       0   \n3   476.00  87.0000  118.5  ...          2          2       2       0       1   \n4   420.00  87.0000  118.5  ...          2          1       2       3       2   \n5   272.00  87.0000   36.0  ...          4          2       1       1       0   \n6   126.00  87.0000    0.0  ...          4          2       1       0       0   \n7   325.00  87.0000  118.5  ...          4          2       2       0       0   \n8   337.00  87.0000  118.5  ...          4          2       2       3       2   \n9   204.00  87.0000   19.0  ...          2          2       1       0       1   \n10  290.75  86.8125  118.5  ...          2          1       2       0       2   \n11  290.75  86.8125  118.5  ...          2          2       2       0       2   \n12  204.00  87.0000  118.5  ...          4          2       2       1       0   \n13  330.00  87.0000  118.5  ...          4          2       2       3       2   \n14  226.00  87.0000  118.5  ...          4          2       2       0       0   \n\n    M6_cat  M7_cat  id_12_cat  id_34_cat  DeviceType_cat  \n0        1       2          2          4               1  \n1        1       2          2          4               1  \n2        0       0          2          4               1  \n3        0       2          2          4               1  \n4        2       2          1          3               2  \n5        1       2          2          4               1  \n6        0       1          2          4               1  \n7        0       2          2          4               1  \n8        2       2          1          2               2  \n9        1       2          2          4               1  \n10       2       2          1          4               0  \n11       2       2          1          4               0  \n12       0       2          2          4               1  \n13       0       2          2          4               1  \n14       0       2          2          4               1  \n\n[15 rows x 234 columns]",
      "text/html": "<div>\n<style scoped>\n    .dataframe tbody tr th:only-of-type {\n        vertical-align: middle;\n    }\n\n    .dataframe tbody tr th {\n        vertical-align: top;\n    }\n\n    .dataframe thead th {\n        text-align: right;\n    }\n</style>\n<table border=\"1\" class=\"dataframe\">\n  <thead>\n    <tr style=\"text-align: right;\">\n      <th></th>\n      <th>TransactionID</th>\n      <th>isFraud</th>\n      <th>TransactionAmt</th>\n      <th>card1</th>\n      <th>card2</th>\n      <th>card3</th>\n      <th>card5</th>\n      <th>addr1</th>\n      <th>addr2</th>\n      <th>dist1</th>\n      <th>...</th>\n      <th>card4_cat</th>\n      <th>card6_cat</th>\n      <th>M1_cat</th>\n      <th>M4_cat</th>\n      <th>M5_cat</th>\n      <th>M6_cat</th>\n      <th>M7_cat</th>\n      <th>id_12_cat</th>\n      <th>id_34_cat</th>\n      <th>DeviceType_cat</th>\n    </tr>\n  </thead>\n  <tbody>\n    <tr>\n      <th>0</th>\n      <td>2987000</td>\n      <td>0</td>\n      <td>68.500</td>\n      <td>13926</td>\n      <td>362.5</td>\n      <td>150.0</td>\n      <td>142.0</td>\n      <td>315.00</td>\n      <td>87.0000</td>\n      <td>19.0</td>\n      <td>...</td>\n      <td>1</td>\n      <td>1</td>\n      <td>1</td>\n      <td>2</td>\n      <td>0</td>\n      <td>1</td>\n      <td>2</td>\n      <td>2</td>\n      <td>4</td>\n      <td>1</td>\n    </tr>\n    <tr>\n      <th>1</th>\n      <td>2987001</td>\n      <td>0</td>\n      <td>29.000</td>\n      <td>2755</td>\n      <td>404.0</td>\n      <td>150.0</td>\n      <td>102.0</td>\n      <td>325.00</td>\n      <td>87.0000</td>\n      <td>118.5</td>\n      <td>...</td>\n      <td>2</td>\n      <td>1</td>\n      <td>2</td>\n      <td>0</td>\n      <td>1</td>\n      <td>1</td>\n      <td>2</td>\n      <td>2</td>\n      <td>4</td>\n      <td>1</td>\n    </tr>\n    <tr>\n      <th>2</th>\n      <td>2987002</td>\n      <td>0</td>\n      <td>59.000</td>\n      <td>4663</td>\n      <td>490.0</td>\n      <td>150.0</td>\n      <td>166.0</td>\n      <td>330.00</td>\n      <td>87.0000</td>\n      <td>287.0</td>\n      <td>...</td>\n      <td>4</td>\n      <td>2</td>\n      <td>1</td>\n      <td>0</td>\n      <td>0</td>\n      <td>0</td>\n      <td>0</td>\n      <td>2</td>\n      <td>4</td>\n      <td>1</td>\n    </tr>\n    <tr>\n      <th>3</th>\n      <td>2987003</td>\n      <td>0</td>\n      <td>50.000</td>\n      <td>18132</td>\n      <td>567.0</td>\n      <td>150.0</td>\n      <td>117.0</td>\n      <td>476.00</td>\n      <td>87.0000</td>\n      <td>118.5</td>\n      <td>...</td>\n      <td>2</td>\n      <td>2</td>\n      <td>2</td>\n      <td>0</td>\n      <td>1</td>\n      <td>0</td>\n      <td>2</td>\n      <td>2</td>\n      <td>4</td>\n      <td>1</td>\n    </tr>\n    <tr>\n      <th>4</th>\n      <td>2987004</td>\n      <td>0</td>\n      <td>50.000</td>\n      <td>4497</td>\n      <td>514.0</td>\n      <td>150.0</td>\n      <td>102.0</td>\n      <td>420.00</td>\n      <td>87.0000</td>\n      <td>118.5</td>\n      <td>...</td>\n      <td>2</td>\n      <td>1</td>\n      <td>2</td>\n      <td>3</td>\n      <td>2</td>\n      <td>2</td>\n      <td>2</td>\n      <td>1</td>\n      <td>3</td>\n      <td>2</td>\n    </tr>\n    <tr>\n      <th>5</th>\n      <td>2987005</td>\n      <td>0</td>\n      <td>49.000</td>\n      <td>5937</td>\n      <td>555.0</td>\n      <td>150.0</td>\n      <td>226.0</td>\n      <td>272.00</td>\n      <td>87.0000</td>\n      <td>36.0</td>\n      <td>...</td>\n      <td>4</td>\n      <td>2</td>\n      <td>1</td>\n      <td>1</td>\n      <td>0</td>\n      <td>1</td>\n      <td>2</td>\n      <td>2</td>\n      <td>4</td>\n      <td>1</td>\n    </tr>\n    <tr>\n      <th>6</th>\n      <td>2987006</td>\n      <td>0</td>\n      <td>159.000</td>\n      <td>12308</td>\n      <td>360.0</td>\n      <td>150.0</td>\n      <td>166.0</td>\n      <td>126.00</td>\n      <td>87.0000</td>\n      <td>0.0</td>\n      <td>...</td>\n      <td>4</td>\n      <td>2</td>\n      <td>1</td>\n      <td>0</td>\n      <td>0</td>\n      <td>0</td>\n      <td>1</td>\n      <td>2</td>\n      <td>4</td>\n      <td>1</td>\n    </tr>\n    <tr>\n      <th>7</th>\n      <td>2987007</td>\n      <td>0</td>\n      <td>422.500</td>\n      <td>12695</td>\n      <td>490.0</td>\n      <td>150.0</td>\n      <td>226.0</td>\n      <td>325.00</td>\n      <td>87.0000</td>\n      <td>118.5</td>\n      <td>...</td>\n      <td>4</td>\n      <td>2</td>\n      <td>2</td>\n      <td>0</td>\n      <td>0</td>\n      <td>0</td>\n      <td>2</td>\n      <td>2</td>\n      <td>4</td>\n      <td>1</td>\n    </tr>\n    <tr>\n      <th>8</th>\n      <td>2987008</td>\n      <td>0</td>\n      <td>15.000</td>\n      <td>2803</td>\n      <td>100.0</td>\n      <td>150.0</td>\n      <td>226.0</td>\n      <td>337.00</td>\n      <td>87.0000</td>\n      <td>118.5</td>\n      <td>...</td>\n      <td>4</td>\n      <td>2</td>\n      <td>2</td>\n      <td>3</td>\n      <td>2</td>\n      <td>2</td>\n      <td>2</td>\n      <td>1</td>\n      <td>2</td>\n      <td>2</td>\n    </tr>\n    <tr>\n      <th>9</th>\n      <td>2987009</td>\n      <td>0</td>\n      <td>117.000</td>\n      <td>17399</td>\n      <td>111.0</td>\n      <td>150.0</td>\n      <td>224.0</td>\n      <td>204.00</td>\n      <td>87.0000</td>\n      <td>19.0</td>\n      <td>...</td>\n      <td>2</td>\n      <td>2</td>\n      <td>1</td>\n      <td>0</td>\n      <td>1</td>\n      <td>1</td>\n      <td>2</td>\n      <td>2</td>\n      <td>4</td>\n      <td>1</td>\n    </tr>\n    <tr>\n      <th>10</th>\n      <td>2987010</td>\n      <td>0</td>\n      <td>75.875</td>\n      <td>16496</td>\n      <td>352.0</td>\n      <td>117.0</td>\n      <td>134.0</td>\n      <td>290.75</td>\n      <td>86.8125</td>\n      <td>118.5</td>\n      <td>...</td>\n      <td>2</td>\n      <td>1</td>\n      <td>2</td>\n      <td>0</td>\n      <td>2</td>\n      <td>2</td>\n      <td>2</td>\n      <td>1</td>\n      <td>4</td>\n      <td>0</td>\n    </tr>\n    <tr>\n      <th>11</th>\n      <td>2987011</td>\n      <td>0</td>\n      <td>16.500</td>\n      <td>4461</td>\n      <td>375.0</td>\n      <td>185.0</td>\n      <td>224.0</td>\n      <td>290.75</td>\n      <td>86.8125</td>\n      <td>118.5</td>\n      <td>...</td>\n      <td>2</td>\n      <td>2</td>\n      <td>2</td>\n      <td>0</td>\n      <td>2</td>\n      <td>2</td>\n      <td>2</td>\n      <td>1</td>\n      <td>4</td>\n      <td>0</td>\n    </tr>\n    <tr>\n      <th>12</th>\n      <td>2987012</td>\n      <td>0</td>\n      <td>50.000</td>\n      <td>3786</td>\n      <td>418.0</td>\n      <td>150.0</td>\n      <td>226.0</td>\n      <td>204.00</td>\n      <td>87.0000</td>\n      <td>118.5</td>\n      <td>...</td>\n      <td>4</td>\n      <td>2</td>\n      <td>2</td>\n      <td>1</td>\n      <td>0</td>\n      <td>0</td>\n      <td>2</td>\n      <td>2</td>\n      <td>4</td>\n      <td>1</td>\n    </tr>\n    <tr>\n      <th>13</th>\n      <td>2987013</td>\n      <td>0</td>\n      <td>40.000</td>\n      <td>12866</td>\n      <td>303.0</td>\n      <td>150.0</td>\n      <td>226.0</td>\n      <td>330.00</td>\n      <td>87.0000</td>\n      <td>118.5</td>\n      <td>...</td>\n      <td>4</td>\n      <td>2</td>\n      <td>2</td>\n      <td>3</td>\n      <td>2</td>\n      <td>0</td>\n      <td>2</td>\n      <td>2</td>\n      <td>4</td>\n      <td>1</td>\n    </tr>\n    <tr>\n      <th>14</th>\n      <td>2987014</td>\n      <td>0</td>\n      <td>10.500</td>\n      <td>11839</td>\n      <td>490.0</td>\n      <td>150.0</td>\n      <td>226.0</td>\n      <td>226.00</td>\n      <td>87.0000</td>\n      <td>118.5</td>\n      <td>...</td>\n      <td>4</td>\n      <td>2</td>\n      <td>2</td>\n      <td>0</td>\n      <td>0</td>\n      <td>0</td>\n      <td>2</td>\n      <td>2</td>\n      <td>4</td>\n      <td>1</td>\n    </tr>\n  </tbody>\n</table>\n<p>15 rows × 234 columns</p>\n</div>"
     },
     "execution_count": 38,
     "metadata": {},
     "output_type": "execute_result"
    }
   ],
   "source": [
    "aux2=aux.copy()\n",
    "aux2.drop(aux2[to_drop],axis=1,inplace=True)\n",
    "aux2.head(n=15)"
   ]
  },
  {
   "cell_type": "code",
   "execution_count": 39,
   "id": "87561037-cae4-4009-8a72-5d34219cd523",
   "metadata": {
    "pycharm": {
     "name": "#%%\n"
    }
   },
   "outputs": [],
   "source": [
    "Xtrain, Xtest = train_test_split(aux2, test_size=0.2)"
   ]
  },
  {
   "cell_type": "code",
   "execution_count": 40,
   "id": "443574bd-a0d1-450a-90e4-85e610f4ca6c",
   "metadata": {
    "pycharm": {
     "name": "#%%\n"
    }
   },
   "outputs": [
    {
     "data": {
      "text/plain": "        isFraud  TransactionAmt  card1  card2  card3  card5   addr1    addr2  \\\n173132        1        97.00000  15066  170.0  150.0  102.0  126.00  87.0000   \n334483        0       445.00000  16659  170.0  150.0  226.0  299.00  87.0000   \n458212        1        35.96875   9633  130.0  185.0  138.0  290.75  86.8125   \n12842         0        47.93750  16317  555.0  150.0  226.0  436.00  87.0000   \n97746         0        24.18750  15885  545.0  185.0  138.0  290.75  86.8125   \n\n        dist1    C1  ...  card4_cat  card6_cat  M1_cat  M4_cat  M5_cat  \\\n173132  118.5   1.0  ...          2          1       2       0       1   \n334483  118.5   2.0  ...          4          1       2       1       1   \n458212  118.5   7.0  ...          4          2       2       2       2   \n12842     3.0  10.0  ...          4          2       1       3       2   \n97746   118.5   2.0  ...          4          2       2       2       2   \n\n        M6_cat  M7_cat  id_12_cat  id_34_cat  DeviceType_cat  \n173132       0       2          2          4               1  \n334483       1       2          2          4               1  \n458212       2       2          1          4               0  \n12842        0       0          2          4               1  \n97746        2       2          2          4               1  \n\n[5 rows x 233 columns]",
      "text/html": "<div>\n<style scoped>\n    .dataframe tbody tr th:only-of-type {\n        vertical-align: middle;\n    }\n\n    .dataframe tbody tr th {\n        vertical-align: top;\n    }\n\n    .dataframe thead th {\n        text-align: right;\n    }\n</style>\n<table border=\"1\" class=\"dataframe\">\n  <thead>\n    <tr style=\"text-align: right;\">\n      <th></th>\n      <th>isFraud</th>\n      <th>TransactionAmt</th>\n      <th>card1</th>\n      <th>card2</th>\n      <th>card3</th>\n      <th>card5</th>\n      <th>addr1</th>\n      <th>addr2</th>\n      <th>dist1</th>\n      <th>C1</th>\n      <th>...</th>\n      <th>card4_cat</th>\n      <th>card6_cat</th>\n      <th>M1_cat</th>\n      <th>M4_cat</th>\n      <th>M5_cat</th>\n      <th>M6_cat</th>\n      <th>M7_cat</th>\n      <th>id_12_cat</th>\n      <th>id_34_cat</th>\n      <th>DeviceType_cat</th>\n    </tr>\n  </thead>\n  <tbody>\n    <tr>\n      <th>173132</th>\n      <td>1</td>\n      <td>97.00000</td>\n      <td>15066</td>\n      <td>170.0</td>\n      <td>150.0</td>\n      <td>102.0</td>\n      <td>126.00</td>\n      <td>87.0000</td>\n      <td>118.5</td>\n      <td>1.0</td>\n      <td>...</td>\n      <td>2</td>\n      <td>1</td>\n      <td>2</td>\n      <td>0</td>\n      <td>1</td>\n      <td>0</td>\n      <td>2</td>\n      <td>2</td>\n      <td>4</td>\n      <td>1</td>\n    </tr>\n    <tr>\n      <th>334483</th>\n      <td>0</td>\n      <td>445.00000</td>\n      <td>16659</td>\n      <td>170.0</td>\n      <td>150.0</td>\n      <td>226.0</td>\n      <td>299.00</td>\n      <td>87.0000</td>\n      <td>118.5</td>\n      <td>2.0</td>\n      <td>...</td>\n      <td>4</td>\n      <td>1</td>\n      <td>2</td>\n      <td>1</td>\n      <td>1</td>\n      <td>1</td>\n      <td>2</td>\n      <td>2</td>\n      <td>4</td>\n      <td>1</td>\n    </tr>\n    <tr>\n      <th>458212</th>\n      <td>1</td>\n      <td>35.96875</td>\n      <td>9633</td>\n      <td>130.0</td>\n      <td>185.0</td>\n      <td>138.0</td>\n      <td>290.75</td>\n      <td>86.8125</td>\n      <td>118.5</td>\n      <td>7.0</td>\n      <td>...</td>\n      <td>4</td>\n      <td>2</td>\n      <td>2</td>\n      <td>2</td>\n      <td>2</td>\n      <td>2</td>\n      <td>2</td>\n      <td>1</td>\n      <td>4</td>\n      <td>0</td>\n    </tr>\n    <tr>\n      <th>12842</th>\n      <td>0</td>\n      <td>47.93750</td>\n      <td>16317</td>\n      <td>555.0</td>\n      <td>150.0</td>\n      <td>226.0</td>\n      <td>436.00</td>\n      <td>87.0000</td>\n      <td>3.0</td>\n      <td>10.0</td>\n      <td>...</td>\n      <td>4</td>\n      <td>2</td>\n      <td>1</td>\n      <td>3</td>\n      <td>2</td>\n      <td>0</td>\n      <td>0</td>\n      <td>2</td>\n      <td>4</td>\n      <td>1</td>\n    </tr>\n    <tr>\n      <th>97746</th>\n      <td>0</td>\n      <td>24.18750</td>\n      <td>15885</td>\n      <td>545.0</td>\n      <td>185.0</td>\n      <td>138.0</td>\n      <td>290.75</td>\n      <td>86.8125</td>\n      <td>118.5</td>\n      <td>2.0</td>\n      <td>...</td>\n      <td>4</td>\n      <td>2</td>\n      <td>2</td>\n      <td>2</td>\n      <td>2</td>\n      <td>2</td>\n      <td>2</td>\n      <td>2</td>\n      <td>4</td>\n      <td>1</td>\n    </tr>\n  </tbody>\n</table>\n<p>5 rows × 233 columns</p>\n</div>"
     },
     "execution_count": 40,
     "metadata": {},
     "output_type": "execute_result"
    }
   ],
   "source": [
    "Xtrain.drop(['TransactionID'],axis=1,inplace=True)\n",
    "Xtrain.head()"
   ]
  },
  {
   "cell_type": "code",
   "execution_count": 41,
   "id": "ff7e0eed-9eac-4d2c-99e6-e55ebdd0bc07",
   "metadata": {
    "pycharm": {
     "name": "#%%\n"
    }
   },
   "outputs": [
    {
     "data": {
      "text/plain": "        isFraud  TransactionAmt  card1  card2  card3  card5   addr1    addr2  \\\n530690        0       50.000000   7653  216.0  150.0  226.0  177.00  87.0000   \n79420         0       75.000000   7861  494.0  150.0  226.0  204.00  87.0000   \n33841         0       50.000000  17059  360.0  150.0  226.0  177.00  87.0000   \n252210        0      107.937500   4526  571.0  150.0  226.0  181.00  87.0000   \n445756        0        5.777344   2650  142.0  185.0  224.0  290.75  86.8125   \n\n        dist1   C1  ...  card4_cat  card6_cat  M1_cat  M4_cat  M5_cat  M6_cat  \\\n530690  118.5  1.0  ...          4          1       2       3       2       2   \n79420   118.5  1.0  ...          4          1       2       3       2       2   \n33841   118.5  1.0  ...          4          2       2       3       2       2   \n252210   11.0  2.0  ...          4          2       1       3       2       1   \n445756  118.5  1.0  ...          2          2       2       2       2       2   \n\n        M7_cat  id_12_cat  id_34_cat  DeviceType_cat  \n530690       2          1          3               0  \n79420        2          1          4               1  \n33841        2          1          3               0  \n252210       0          2          4               1  \n445756       2          1          4               2  \n\n[5 rows x 233 columns]",
      "text/html": "<div>\n<style scoped>\n    .dataframe tbody tr th:only-of-type {\n        vertical-align: middle;\n    }\n\n    .dataframe tbody tr th {\n        vertical-align: top;\n    }\n\n    .dataframe thead th {\n        text-align: right;\n    }\n</style>\n<table border=\"1\" class=\"dataframe\">\n  <thead>\n    <tr style=\"text-align: right;\">\n      <th></th>\n      <th>isFraud</th>\n      <th>TransactionAmt</th>\n      <th>card1</th>\n      <th>card2</th>\n      <th>card3</th>\n      <th>card5</th>\n      <th>addr1</th>\n      <th>addr2</th>\n      <th>dist1</th>\n      <th>C1</th>\n      <th>...</th>\n      <th>card4_cat</th>\n      <th>card6_cat</th>\n      <th>M1_cat</th>\n      <th>M4_cat</th>\n      <th>M5_cat</th>\n      <th>M6_cat</th>\n      <th>M7_cat</th>\n      <th>id_12_cat</th>\n      <th>id_34_cat</th>\n      <th>DeviceType_cat</th>\n    </tr>\n  </thead>\n  <tbody>\n    <tr>\n      <th>530690</th>\n      <td>0</td>\n      <td>50.000000</td>\n      <td>7653</td>\n      <td>216.0</td>\n      <td>150.0</td>\n      <td>226.0</td>\n      <td>177.00</td>\n      <td>87.0000</td>\n      <td>118.5</td>\n      <td>1.0</td>\n      <td>...</td>\n      <td>4</td>\n      <td>1</td>\n      <td>2</td>\n      <td>3</td>\n      <td>2</td>\n      <td>2</td>\n      <td>2</td>\n      <td>1</td>\n      <td>3</td>\n      <td>0</td>\n    </tr>\n    <tr>\n      <th>79420</th>\n      <td>0</td>\n      <td>75.000000</td>\n      <td>7861</td>\n      <td>494.0</td>\n      <td>150.0</td>\n      <td>226.0</td>\n      <td>204.00</td>\n      <td>87.0000</td>\n      <td>118.5</td>\n      <td>1.0</td>\n      <td>...</td>\n      <td>4</td>\n      <td>1</td>\n      <td>2</td>\n      <td>3</td>\n      <td>2</td>\n      <td>2</td>\n      <td>2</td>\n      <td>1</td>\n      <td>4</td>\n      <td>1</td>\n    </tr>\n    <tr>\n      <th>33841</th>\n      <td>0</td>\n      <td>50.000000</td>\n      <td>17059</td>\n      <td>360.0</td>\n      <td>150.0</td>\n      <td>226.0</td>\n      <td>177.00</td>\n      <td>87.0000</td>\n      <td>118.5</td>\n      <td>1.0</td>\n      <td>...</td>\n      <td>4</td>\n      <td>2</td>\n      <td>2</td>\n      <td>3</td>\n      <td>2</td>\n      <td>2</td>\n      <td>2</td>\n      <td>1</td>\n      <td>3</td>\n      <td>0</td>\n    </tr>\n    <tr>\n      <th>252210</th>\n      <td>0</td>\n      <td>107.937500</td>\n      <td>4526</td>\n      <td>571.0</td>\n      <td>150.0</td>\n      <td>226.0</td>\n      <td>181.00</td>\n      <td>87.0000</td>\n      <td>11.0</td>\n      <td>2.0</td>\n      <td>...</td>\n      <td>4</td>\n      <td>2</td>\n      <td>1</td>\n      <td>3</td>\n      <td>2</td>\n      <td>1</td>\n      <td>0</td>\n      <td>2</td>\n      <td>4</td>\n      <td>1</td>\n    </tr>\n    <tr>\n      <th>445756</th>\n      <td>0</td>\n      <td>5.777344</td>\n      <td>2650</td>\n      <td>142.0</td>\n      <td>185.0</td>\n      <td>224.0</td>\n      <td>290.75</td>\n      <td>86.8125</td>\n      <td>118.5</td>\n      <td>1.0</td>\n      <td>...</td>\n      <td>2</td>\n      <td>2</td>\n      <td>2</td>\n      <td>2</td>\n      <td>2</td>\n      <td>2</td>\n      <td>2</td>\n      <td>1</td>\n      <td>4</td>\n      <td>2</td>\n    </tr>\n  </tbody>\n</table>\n<p>5 rows × 233 columns</p>\n</div>"
     },
     "execution_count": 41,
     "metadata": {},
     "output_type": "execute_result"
    }
   ],
   "source": [
    "Xtest.drop(['TransactionID'],axis=1,inplace=True)\n",
    "Xtest.head()"
   ]
  },
  {
   "cell_type": "code",
   "execution_count": 42,
   "id": "4f23eb83-a4d6-40f6-b027-ab4643ce66fc",
   "metadata": {
    "pycharm": {
     "name": "#%%\n"
    }
   },
   "outputs": [],
   "source": [
    "Ytrain= Xtrain['isFraud']\n",
    "Ytest= Xtest['isFraud']"
   ]
  },
  {
   "cell_type": "code",
   "execution_count": 43,
   "id": "bcad19ce-a6da-4817-aeb9-2b4d8d9f0505",
   "metadata": {
    "pycharm": {
     "name": "#%%\n"
    }
   },
   "outputs": [],
   "source": [
    "Xtrain.drop(['isFraud'],axis=1,inplace=True)"
   ]
  },
  {
   "cell_type": "code",
   "execution_count": 44,
   "id": "0db5d4c8-3316-4890-8224-c7ac7eb596bb",
   "metadata": {
    "pycharm": {
     "name": "#%%\n"
    }
   },
   "outputs": [],
   "source": [
    "Xtest.drop(['isFraud'],axis=1,inplace=True)"
   ]
  },
  {
   "cell_type": "code",
   "execution_count": 45,
   "id": "6488d0c5-f69d-4893-9b84-78c13a30c724",
   "metadata": {
    "pycharm": {
     "name": "#%%\n"
    }
   },
   "outputs": [
    {
     "data": {
      "text/plain": "        TransactionAmt  card1  card2  card3  card5   addr1    addr2  dist1  \\\n173132       97.000000  15066  170.0  150.0  102.0  126.00  87.0000  118.5   \n334483      445.000000  16659  170.0  150.0  226.0  299.00  87.0000  118.5   \n458212       35.968750   9633  130.0  185.0  138.0  290.75  86.8125  118.5   \n12842        47.937500  16317  555.0  150.0  226.0  436.00  87.0000    3.0   \n97746        24.187500  15885  545.0  185.0  138.0  290.75  86.8125  118.5   \n...                ...    ...    ...    ...    ...     ...      ...    ...   \n356409       25.953125   7919  194.0  150.0  166.0  485.00  87.0000  202.0   \n107875       25.000000   7508  321.0  150.0  226.0  177.00  87.0000  118.5   \n379393      141.000000   2803  100.0  150.0  226.0  441.00  87.0000  237.0   \n535572       59.000000  18385  555.0  150.0  226.0  191.00  87.0000  118.5   \n159429       29.000000   2803  100.0  150.0  226.0  337.00  87.0000   19.0   \n\n          C1   C3  ...  card4_cat  card6_cat  M1_cat  M4_cat  M5_cat  M6_cat  \\\n173132   1.0  0.0  ...          2          1       2       0       1       0   \n334483   2.0  0.0  ...          4          1       2       1       1       1   \n458212   7.0  0.0  ...          4          2       2       2       2       2   \n12842   10.0  0.0  ...          4          2       1       3       2       0   \n97746    2.0  0.0  ...          4          2       2       2       2       2   \n...      ...  ...  ...        ...        ...     ...     ...     ...     ...   \n356409   9.0  0.0  ...          2          2       1       3       2       1   \n107875   1.0  0.0  ...          4          2       2       3       2       2   \n379393   1.0  0.0  ...          4          2       1       0       0       1   \n535572   1.0  0.0  ...          4          2       1       0       1       1   \n159429   5.0  0.0  ...          4          2       1       1       0       0   \n\n        M7_cat  id_12_cat  id_34_cat  DeviceType_cat  \n173132       2          2          4               1  \n334483       2          2          4               1  \n458212       2          1          4               0  \n12842        0          2          4               1  \n97746        2          2          4               1  \n...        ...        ...        ...             ...  \n356409       2          2          4               1  \n107875       2          1          2               2  \n379393       2          2          4               1  \n535572       0          2          4               1  \n159429       2          2          4               1  \n\n[472432 rows x 232 columns]",
      "text/html": "<div>\n<style scoped>\n    .dataframe tbody tr th:only-of-type {\n        vertical-align: middle;\n    }\n\n    .dataframe tbody tr th {\n        vertical-align: top;\n    }\n\n    .dataframe thead th {\n        text-align: right;\n    }\n</style>\n<table border=\"1\" class=\"dataframe\">\n  <thead>\n    <tr style=\"text-align: right;\">\n      <th></th>\n      <th>TransactionAmt</th>\n      <th>card1</th>\n      <th>card2</th>\n      <th>card3</th>\n      <th>card5</th>\n      <th>addr1</th>\n      <th>addr2</th>\n      <th>dist1</th>\n      <th>C1</th>\n      <th>C3</th>\n      <th>...</th>\n      <th>card4_cat</th>\n      <th>card6_cat</th>\n      <th>M1_cat</th>\n      <th>M4_cat</th>\n      <th>M5_cat</th>\n      <th>M6_cat</th>\n      <th>M7_cat</th>\n      <th>id_12_cat</th>\n      <th>id_34_cat</th>\n      <th>DeviceType_cat</th>\n    </tr>\n  </thead>\n  <tbody>\n    <tr>\n      <th>173132</th>\n      <td>97.000000</td>\n      <td>15066</td>\n      <td>170.0</td>\n      <td>150.0</td>\n      <td>102.0</td>\n      <td>126.00</td>\n      <td>87.0000</td>\n      <td>118.5</td>\n      <td>1.0</td>\n      <td>0.0</td>\n      <td>...</td>\n      <td>2</td>\n      <td>1</td>\n      <td>2</td>\n      <td>0</td>\n      <td>1</td>\n      <td>0</td>\n      <td>2</td>\n      <td>2</td>\n      <td>4</td>\n      <td>1</td>\n    </tr>\n    <tr>\n      <th>334483</th>\n      <td>445.000000</td>\n      <td>16659</td>\n      <td>170.0</td>\n      <td>150.0</td>\n      <td>226.0</td>\n      <td>299.00</td>\n      <td>87.0000</td>\n      <td>118.5</td>\n      <td>2.0</td>\n      <td>0.0</td>\n      <td>...</td>\n      <td>4</td>\n      <td>1</td>\n      <td>2</td>\n      <td>1</td>\n      <td>1</td>\n      <td>1</td>\n      <td>2</td>\n      <td>2</td>\n      <td>4</td>\n      <td>1</td>\n    </tr>\n    <tr>\n      <th>458212</th>\n      <td>35.968750</td>\n      <td>9633</td>\n      <td>130.0</td>\n      <td>185.0</td>\n      <td>138.0</td>\n      <td>290.75</td>\n      <td>86.8125</td>\n      <td>118.5</td>\n      <td>7.0</td>\n      <td>0.0</td>\n      <td>...</td>\n      <td>4</td>\n      <td>2</td>\n      <td>2</td>\n      <td>2</td>\n      <td>2</td>\n      <td>2</td>\n      <td>2</td>\n      <td>1</td>\n      <td>4</td>\n      <td>0</td>\n    </tr>\n    <tr>\n      <th>12842</th>\n      <td>47.937500</td>\n      <td>16317</td>\n      <td>555.0</td>\n      <td>150.0</td>\n      <td>226.0</td>\n      <td>436.00</td>\n      <td>87.0000</td>\n      <td>3.0</td>\n      <td>10.0</td>\n      <td>0.0</td>\n      <td>...</td>\n      <td>4</td>\n      <td>2</td>\n      <td>1</td>\n      <td>3</td>\n      <td>2</td>\n      <td>0</td>\n      <td>0</td>\n      <td>2</td>\n      <td>4</td>\n      <td>1</td>\n    </tr>\n    <tr>\n      <th>97746</th>\n      <td>24.187500</td>\n      <td>15885</td>\n      <td>545.0</td>\n      <td>185.0</td>\n      <td>138.0</td>\n      <td>290.75</td>\n      <td>86.8125</td>\n      <td>118.5</td>\n      <td>2.0</td>\n      <td>0.0</td>\n      <td>...</td>\n      <td>4</td>\n      <td>2</td>\n      <td>2</td>\n      <td>2</td>\n      <td>2</td>\n      <td>2</td>\n      <td>2</td>\n      <td>2</td>\n      <td>4</td>\n      <td>1</td>\n    </tr>\n    <tr>\n      <th>...</th>\n      <td>...</td>\n      <td>...</td>\n      <td>...</td>\n      <td>...</td>\n      <td>...</td>\n      <td>...</td>\n      <td>...</td>\n      <td>...</td>\n      <td>...</td>\n      <td>...</td>\n      <td>...</td>\n      <td>...</td>\n      <td>...</td>\n      <td>...</td>\n      <td>...</td>\n      <td>...</td>\n      <td>...</td>\n      <td>...</td>\n      <td>...</td>\n      <td>...</td>\n      <td>...</td>\n    </tr>\n    <tr>\n      <th>356409</th>\n      <td>25.953125</td>\n      <td>7919</td>\n      <td>194.0</td>\n      <td>150.0</td>\n      <td>166.0</td>\n      <td>485.00</td>\n      <td>87.0000</td>\n      <td>202.0</td>\n      <td>9.0</td>\n      <td>0.0</td>\n      <td>...</td>\n      <td>2</td>\n      <td>2</td>\n      <td>1</td>\n      <td>3</td>\n      <td>2</td>\n      <td>1</td>\n      <td>2</td>\n      <td>2</td>\n      <td>4</td>\n      <td>1</td>\n    </tr>\n    <tr>\n      <th>107875</th>\n      <td>25.000000</td>\n      <td>7508</td>\n      <td>321.0</td>\n      <td>150.0</td>\n      <td>226.0</td>\n      <td>177.00</td>\n      <td>87.0000</td>\n      <td>118.5</td>\n      <td>1.0</td>\n      <td>0.0</td>\n      <td>...</td>\n      <td>4</td>\n      <td>2</td>\n      <td>2</td>\n      <td>3</td>\n      <td>2</td>\n      <td>2</td>\n      <td>2</td>\n      <td>1</td>\n      <td>2</td>\n      <td>2</td>\n    </tr>\n    <tr>\n      <th>379393</th>\n      <td>141.000000</td>\n      <td>2803</td>\n      <td>100.0</td>\n      <td>150.0</td>\n      <td>226.0</td>\n      <td>441.00</td>\n      <td>87.0000</td>\n      <td>237.0</td>\n      <td>1.0</td>\n      <td>0.0</td>\n      <td>...</td>\n      <td>4</td>\n      <td>2</td>\n      <td>1</td>\n      <td>0</td>\n      <td>0</td>\n      <td>1</td>\n      <td>2</td>\n      <td>2</td>\n      <td>4</td>\n      <td>1</td>\n    </tr>\n    <tr>\n      <th>535572</th>\n      <td>59.000000</td>\n      <td>18385</td>\n      <td>555.0</td>\n      <td>150.0</td>\n      <td>226.0</td>\n      <td>191.00</td>\n      <td>87.0000</td>\n      <td>118.5</td>\n      <td>1.0</td>\n      <td>0.0</td>\n      <td>...</td>\n      <td>4</td>\n      <td>2</td>\n      <td>1</td>\n      <td>0</td>\n      <td>1</td>\n      <td>1</td>\n      <td>0</td>\n      <td>2</td>\n      <td>4</td>\n      <td>1</td>\n    </tr>\n    <tr>\n      <th>159429</th>\n      <td>29.000000</td>\n      <td>2803</td>\n      <td>100.0</td>\n      <td>150.0</td>\n      <td>226.0</td>\n      <td>337.00</td>\n      <td>87.0000</td>\n      <td>19.0</td>\n      <td>5.0</td>\n      <td>0.0</td>\n      <td>...</td>\n      <td>4</td>\n      <td>2</td>\n      <td>1</td>\n      <td>1</td>\n      <td>0</td>\n      <td>0</td>\n      <td>2</td>\n      <td>2</td>\n      <td>4</td>\n      <td>1</td>\n    </tr>\n  </tbody>\n</table>\n<p>472432 rows × 232 columns</p>\n</div>"
     },
     "execution_count": 45,
     "metadata": {},
     "output_type": "execute_result"
    }
   ],
   "source": [
    "Xtrain"
   ]
  },
  {
   "cell_type": "code",
   "execution_count": 46,
   "id": "86d38e3d-c58d-4625-871e-e0d3cf51a5f0",
   "metadata": {
    "pycharm": {
     "name": "#%%\n"
    }
   },
   "outputs": [],
   "source": [
    "def maximum_absolute_scaling(df):\n",
    "    # TODO: Use the MinMaxScaler from scikit.\n",
    "    df_scaled = df.copy()\n",
    "    for column in df_scaled.columns:\n",
    "        df_scaled[column] = df_scaled[column]  / df_scaled[column].abs().max()\n",
    "    return df_scaled"
   ]
  },
  {
   "cell_type": "code",
   "execution_count": 47,
   "id": "c4b76f17-ebc8-4f7c-bcd0-c28108909b3f",
   "metadata": {
    "pycharm": {
     "name": "#%%\n"
    }
   },
   "outputs": [],
   "source": [
    "Xtrain = maximum_absolute_scaling(Xtrain)"
   ]
  },
  {
   "cell_type": "code",
   "execution_count": 48,
   "id": "008b412b-b280-4462-88e5-ddecf9c2fb96",
   "metadata": {
    "pycharm": {
     "name": "#%%\n"
    }
   },
   "outputs": [
    {
     "data": {
      "text/plain": "        TransactionAmt     card1     card2     card3     card5     addr1  \\\n173132        0.003036  0.818982  0.283447  0.649414  0.430420  0.233276   \n334483        0.013931  0.905577  0.283447  0.649414  0.953613  0.553711   \n458212        0.001126  0.523646  0.216675  0.800781  0.582520  0.538574   \n12842         0.001501  0.886986  0.924805  0.649414  0.953613  0.807617   \n97746         0.000757  0.863503  0.908203  0.800781  0.582520  0.538574   \n\n           addr2     dist1        C1   C3  ...  card4_cat  card6_cat  M1_cat  \\\n173132  0.853027  0.011520  0.000214  0.0  ...        0.5       0.25     1.0   \n334483  0.853027  0.011520  0.000427  0.0  ...        1.0       0.25     1.0   \n458212  0.851074  0.011520  0.001495  0.0  ...        1.0       0.50     1.0   \n12842   0.853027  0.000292  0.002136  0.0  ...        1.0       0.50     0.5   \n97746   0.851074  0.011520  0.000427  0.0  ...        1.0       0.50     1.0   \n\n          M4_cat  M5_cat  M6_cat  M7_cat  id_12_cat  id_34_cat  DeviceType_cat  \n173132  0.000000     0.5     0.0     1.0        1.0        1.0             0.5  \n334483  0.333333     0.5     0.5     1.0        1.0        1.0             0.5  \n458212  0.666667     1.0     1.0     1.0        0.5        1.0             0.0  \n12842   1.000000     1.0     0.0     0.0        1.0        1.0             0.5  \n97746   0.666667     1.0     1.0     1.0        1.0        1.0             0.5  \n\n[5 rows x 232 columns]",
      "text/html": "<div>\n<style scoped>\n    .dataframe tbody tr th:only-of-type {\n        vertical-align: middle;\n    }\n\n    .dataframe tbody tr th {\n        vertical-align: top;\n    }\n\n    .dataframe thead th {\n        text-align: right;\n    }\n</style>\n<table border=\"1\" class=\"dataframe\">\n  <thead>\n    <tr style=\"text-align: right;\">\n      <th></th>\n      <th>TransactionAmt</th>\n      <th>card1</th>\n      <th>card2</th>\n      <th>card3</th>\n      <th>card5</th>\n      <th>addr1</th>\n      <th>addr2</th>\n      <th>dist1</th>\n      <th>C1</th>\n      <th>C3</th>\n      <th>...</th>\n      <th>card4_cat</th>\n      <th>card6_cat</th>\n      <th>M1_cat</th>\n      <th>M4_cat</th>\n      <th>M5_cat</th>\n      <th>M6_cat</th>\n      <th>M7_cat</th>\n      <th>id_12_cat</th>\n      <th>id_34_cat</th>\n      <th>DeviceType_cat</th>\n    </tr>\n  </thead>\n  <tbody>\n    <tr>\n      <th>173132</th>\n      <td>0.003036</td>\n      <td>0.818982</td>\n      <td>0.283447</td>\n      <td>0.649414</td>\n      <td>0.430420</td>\n      <td>0.233276</td>\n      <td>0.853027</td>\n      <td>0.011520</td>\n      <td>0.000214</td>\n      <td>0.0</td>\n      <td>...</td>\n      <td>0.5</td>\n      <td>0.25</td>\n      <td>1.0</td>\n      <td>0.000000</td>\n      <td>0.5</td>\n      <td>0.0</td>\n      <td>1.0</td>\n      <td>1.0</td>\n      <td>1.0</td>\n      <td>0.5</td>\n    </tr>\n    <tr>\n      <th>334483</th>\n      <td>0.013931</td>\n      <td>0.905577</td>\n      <td>0.283447</td>\n      <td>0.649414</td>\n      <td>0.953613</td>\n      <td>0.553711</td>\n      <td>0.853027</td>\n      <td>0.011520</td>\n      <td>0.000427</td>\n      <td>0.0</td>\n      <td>...</td>\n      <td>1.0</td>\n      <td>0.25</td>\n      <td>1.0</td>\n      <td>0.333333</td>\n      <td>0.5</td>\n      <td>0.5</td>\n      <td>1.0</td>\n      <td>1.0</td>\n      <td>1.0</td>\n      <td>0.5</td>\n    </tr>\n    <tr>\n      <th>458212</th>\n      <td>0.001126</td>\n      <td>0.523646</td>\n      <td>0.216675</td>\n      <td>0.800781</td>\n      <td>0.582520</td>\n      <td>0.538574</td>\n      <td>0.851074</td>\n      <td>0.011520</td>\n      <td>0.001495</td>\n      <td>0.0</td>\n      <td>...</td>\n      <td>1.0</td>\n      <td>0.50</td>\n      <td>1.0</td>\n      <td>0.666667</td>\n      <td>1.0</td>\n      <td>1.0</td>\n      <td>1.0</td>\n      <td>0.5</td>\n      <td>1.0</td>\n      <td>0.0</td>\n    </tr>\n    <tr>\n      <th>12842</th>\n      <td>0.001501</td>\n      <td>0.886986</td>\n      <td>0.924805</td>\n      <td>0.649414</td>\n      <td>0.953613</td>\n      <td>0.807617</td>\n      <td>0.853027</td>\n      <td>0.000292</td>\n      <td>0.002136</td>\n      <td>0.0</td>\n      <td>...</td>\n      <td>1.0</td>\n      <td>0.50</td>\n      <td>0.5</td>\n      <td>1.000000</td>\n      <td>1.0</td>\n      <td>0.0</td>\n      <td>0.0</td>\n      <td>1.0</td>\n      <td>1.0</td>\n      <td>0.5</td>\n    </tr>\n    <tr>\n      <th>97746</th>\n      <td>0.000757</td>\n      <td>0.863503</td>\n      <td>0.908203</td>\n      <td>0.800781</td>\n      <td>0.582520</td>\n      <td>0.538574</td>\n      <td>0.851074</td>\n      <td>0.011520</td>\n      <td>0.000427</td>\n      <td>0.0</td>\n      <td>...</td>\n      <td>1.0</td>\n      <td>0.50</td>\n      <td>1.0</td>\n      <td>0.666667</td>\n      <td>1.0</td>\n      <td>1.0</td>\n      <td>1.0</td>\n      <td>1.0</td>\n      <td>1.0</td>\n      <td>0.5</td>\n    </tr>\n  </tbody>\n</table>\n<p>5 rows × 232 columns</p>\n</div>"
     },
     "execution_count": 48,
     "metadata": {},
     "output_type": "execute_result"
    }
   ],
   "source": [
    "Xtrain.head()"
   ]
  },
  {
   "cell_type": "code",
   "execution_count": 49,
   "id": "03a8060d-57cb-44d6-9296-07053715c8be",
   "metadata": {
    "pycharm": {
     "name": "#%%\n"
    }
   },
   "outputs": [],
   "source": [
    "# FIXME: if you use this function, you should use the maximum values from the train set to scale even your test set.\n",
    "Xtest = maximum_absolute_scaling(Xtest)"
   ]
  },
  {
   "cell_type": "code",
   "execution_count": 50,
   "id": "83688dba-b505-492a-a8d7-abfac2b36247",
   "metadata": {
    "pycharm": {
     "name": "#%%\n"
    }
   },
   "outputs": [
    {
     "data": {
      "text/plain": "        TransactionAmt     card1     card2     card3     card5     addr1  \\\n530690        0.007748  0.416037  0.360107  0.649414  0.953613  0.330322   \n79420         0.011627  0.427344  0.823242  0.649414  0.953613  0.380615   \n33841         0.007748  0.927372  0.600098  0.649414  0.953613  0.330322   \n252210        0.016724  0.246045  0.951660  0.649414  0.953613  0.337646   \n445756        0.000896  0.144061  0.236694  0.800781  0.945312  0.542480   \n\n           addr2     dist1        C1   C3  ...  card4_cat  card6_cat  M1_cat  \\\n530690  0.861328  0.014664  0.000214  0.0  ...        1.0       0.25     1.0   \n79420   0.861328  0.014664  0.000214  0.0  ...        1.0       0.25     1.0   \n33841   0.861328  0.014664  0.000214  0.0  ...        1.0       0.50     1.0   \n252210  0.861328  0.001362  0.000427  0.0  ...        1.0       0.50     0.5   \n445756  0.859375  0.014664  0.000214  0.0  ...        0.5       0.50     1.0   \n\n          M4_cat  M5_cat  M6_cat  M7_cat  id_12_cat  id_34_cat  DeviceType_cat  \n530690  1.000000     1.0     1.0     1.0        0.5       0.75             0.0  \n79420   1.000000     1.0     1.0     1.0        0.5       1.00             0.5  \n33841   1.000000     1.0     1.0     1.0        0.5       0.75             0.0  \n252210  1.000000     1.0     0.5     0.0        1.0       1.00             0.5  \n445756  0.666667     1.0     1.0     1.0        0.5       1.00             1.0  \n\n[5 rows x 232 columns]",
      "text/html": "<div>\n<style scoped>\n    .dataframe tbody tr th:only-of-type {\n        vertical-align: middle;\n    }\n\n    .dataframe tbody tr th {\n        vertical-align: top;\n    }\n\n    .dataframe thead th {\n        text-align: right;\n    }\n</style>\n<table border=\"1\" class=\"dataframe\">\n  <thead>\n    <tr style=\"text-align: right;\">\n      <th></th>\n      <th>TransactionAmt</th>\n      <th>card1</th>\n      <th>card2</th>\n      <th>card3</th>\n      <th>card5</th>\n      <th>addr1</th>\n      <th>addr2</th>\n      <th>dist1</th>\n      <th>C1</th>\n      <th>C3</th>\n      <th>...</th>\n      <th>card4_cat</th>\n      <th>card6_cat</th>\n      <th>M1_cat</th>\n      <th>M4_cat</th>\n      <th>M5_cat</th>\n      <th>M6_cat</th>\n      <th>M7_cat</th>\n      <th>id_12_cat</th>\n      <th>id_34_cat</th>\n      <th>DeviceType_cat</th>\n    </tr>\n  </thead>\n  <tbody>\n    <tr>\n      <th>530690</th>\n      <td>0.007748</td>\n      <td>0.416037</td>\n      <td>0.360107</td>\n      <td>0.649414</td>\n      <td>0.953613</td>\n      <td>0.330322</td>\n      <td>0.861328</td>\n      <td>0.014664</td>\n      <td>0.000214</td>\n      <td>0.0</td>\n      <td>...</td>\n      <td>1.0</td>\n      <td>0.25</td>\n      <td>1.0</td>\n      <td>1.000000</td>\n      <td>1.0</td>\n      <td>1.0</td>\n      <td>1.0</td>\n      <td>0.5</td>\n      <td>0.75</td>\n      <td>0.0</td>\n    </tr>\n    <tr>\n      <th>79420</th>\n      <td>0.011627</td>\n      <td>0.427344</td>\n      <td>0.823242</td>\n      <td>0.649414</td>\n      <td>0.953613</td>\n      <td>0.380615</td>\n      <td>0.861328</td>\n      <td>0.014664</td>\n      <td>0.000214</td>\n      <td>0.0</td>\n      <td>...</td>\n      <td>1.0</td>\n      <td>0.25</td>\n      <td>1.0</td>\n      <td>1.000000</td>\n      <td>1.0</td>\n      <td>1.0</td>\n      <td>1.0</td>\n      <td>0.5</td>\n      <td>1.00</td>\n      <td>0.5</td>\n    </tr>\n    <tr>\n      <th>33841</th>\n      <td>0.007748</td>\n      <td>0.927372</td>\n      <td>0.600098</td>\n      <td>0.649414</td>\n      <td>0.953613</td>\n      <td>0.330322</td>\n      <td>0.861328</td>\n      <td>0.014664</td>\n      <td>0.000214</td>\n      <td>0.0</td>\n      <td>...</td>\n      <td>1.0</td>\n      <td>0.50</td>\n      <td>1.0</td>\n      <td>1.000000</td>\n      <td>1.0</td>\n      <td>1.0</td>\n      <td>1.0</td>\n      <td>0.5</td>\n      <td>0.75</td>\n      <td>0.0</td>\n    </tr>\n    <tr>\n      <th>252210</th>\n      <td>0.016724</td>\n      <td>0.246045</td>\n      <td>0.951660</td>\n      <td>0.649414</td>\n      <td>0.953613</td>\n      <td>0.337646</td>\n      <td>0.861328</td>\n      <td>0.001362</td>\n      <td>0.000427</td>\n      <td>0.0</td>\n      <td>...</td>\n      <td>1.0</td>\n      <td>0.50</td>\n      <td>0.5</td>\n      <td>1.000000</td>\n      <td>1.0</td>\n      <td>0.5</td>\n      <td>0.0</td>\n      <td>1.0</td>\n      <td>1.00</td>\n      <td>0.5</td>\n    </tr>\n    <tr>\n      <th>445756</th>\n      <td>0.000896</td>\n      <td>0.144061</td>\n      <td>0.236694</td>\n      <td>0.800781</td>\n      <td>0.945312</td>\n      <td>0.542480</td>\n      <td>0.859375</td>\n      <td>0.014664</td>\n      <td>0.000214</td>\n      <td>0.0</td>\n      <td>...</td>\n      <td>0.5</td>\n      <td>0.50</td>\n      <td>1.0</td>\n      <td>0.666667</td>\n      <td>1.0</td>\n      <td>1.0</td>\n      <td>1.0</td>\n      <td>0.5</td>\n      <td>1.00</td>\n      <td>1.0</td>\n    </tr>\n  </tbody>\n</table>\n<p>5 rows × 232 columns</p>\n</div>"
     },
     "execution_count": 50,
     "metadata": {},
     "output_type": "execute_result"
    }
   ],
   "source": [
    "Xtest.head()"
   ]
  },
  {
   "cell_type": "markdown",
   "id": "67caeb7c-7fb5-4b7b-8377-89a435f6ced3",
   "metadata": {
    "pycharm": {
     "name": "#%% md\n"
    }
   },
   "source": [
    "Predict all not Fraud"
   ]
  },
  {
   "cell_type": "code",
   "execution_count": 51,
   "id": "a297cf0c-d7d3-4c55-b29b-7b5087e32a4e",
   "metadata": {
    "pycharm": {
     "name": "#%%\n"
    }
   },
   "outputs": [
    {
     "data": {
      "text/plain": "96.48457344125715"
     },
     "execution_count": 51,
     "metadata": {},
     "output_type": "execute_result"
    }
   ],
   "source": [
    "(Ytest==0).sum()/(Ytest.shape[0])*100 # score"
   ]
  },
  {
   "cell_type": "markdown",
   "id": "f76bb9b2-a21d-4f21-95eb-15a48f2e22d8",
   "metadata": {
    "pycharm": {
     "name": "#%% md\n"
    }
   },
   "source": [
    "Train Logistic Regression"
   ]
  },
  {
   "cell_type": "code",
   "execution_count": 52,
   "id": "4333e065-ad4c-4b33-8dcb-9fc542412b4f",
   "metadata": {
    "pycharm": {
     "name": "#%%\n"
    }
   },
   "outputs": [
    {
     "name": "stdout",
     "output_type": "stream",
     "text": [
      "0.9691976834761404\n"
     ]
    }
   ],
   "source": [
    "logisticRegr = LogisticRegression(max_iter=2000)\n",
    "logisticRegr.fit(Xtrain, Ytrain)\n",
    "score = logisticRegr.score(Xtest, Ytest)\n",
    "print(score)"
   ]
  },
  {
   "cell_type": "code",
   "execution_count": 53,
   "id": "60c7514b-a66a-4a9d-a189-796423883d55",
   "metadata": {
    "pycharm": {
     "name": "#%%\n"
    }
   },
   "outputs": [
    {
     "data": {
      "text/plain": "{'V148': 9.723804139236915,\n 'V200': 9.189337864503369,\n 'V44': 9.162057405668746,\n 'TransactionAmt': 8.86605102839321,\n 'V146': 8.445881623909065,\n 'V223': 7.330586316683348,\n 'V87': 7.079839048895071,\n 'V246': 6.9347140532252896,\n 'V224': 6.8493818955229395,\n 'V242': 6.669364557549732,\n 'V252': 6.510306691072357,\n 'V59': 6.502957683654631,\n 'id_04': 6.465247052067806,\n 'V258': 5.901860297161378,\n 'V189': 5.890425005978464,\n 'V267': 5.523888032589575,\n 'V262': 5.267653884002315,\n 'C1': 5.241080391456065,\n 'V172': 5.1157795838769236,\n 'V261': 5.104487343777967,\n 'V47': 4.872093156522234,\n 'V165': 4.857019826683208,\n 'V264': 4.739102955939922,\n 'C13': 4.506028630686197,\n 'D8': 4.435265074621577,\n 'V123': 4.411758064089431,\n 'V209': 4.254430185215359,\n 'V139': 4.183630591073857,\n 'D3': 4.141341801190956,\n 'V328': 3.86615566386187,\n 'V56': 3.6609334405675624,\n 'V310': 3.533427395391222,\n 'V247': 3.32961330789948,\n 'V25': 3.3089679507468315,\n 'V38': 3.2733571231260203,\n 'V78': 3.25917203769661,\n 'V281': 3.066784535492369,\n 'card3': 3.065435865770323,\n 'card6_cat': 3.004601732712294,\n 'V174': 2.993429978795913,\n 'V17': 2.970310341697243,\n 'V170': 2.9658617932381293,\n 'V282': 2.95865505083883,\n 'V141': 2.893166982454128,\n 'V180': 2.858915641571048,\n 'V185': 2.804174495664322,\n 'V6': 2.749707912078388,\n 'V62': 2.746578729430597,\n 'V326': 2.743981087007111,\n 'V144': 2.5730377995127847,\n 'V55': 2.5256204068823274,\n 'id_03': 2.514433430949651,\n 'V82': 2.503126552574128,\n 'V312': 2.4863526985679987,\n 'V187': 2.4605221166099063,\n 'V67': 2.4146848800591045,\n 'V29': 2.413896427635782,\n 'V83': 2.408363158150522,\n 'id_09': 2.3213714556786345,\n 'V283': 2.303636954920156,\n 'V3': 2.3023004699487433,\n 'V188': 2.2674559582495117,\n 'V284': 2.25599149894827,\n 'id_17': 2.2018768963385535,\n 'V184': 2.176604873737247,\n 'V191': 2.1447836254430923,\n 'V186': 2.130804327151135,\n 'V99': 2.1125692819320103,\n 'V268': 2.08652239600602,\n 'V229': 2.0434232727516775,\n 'V238': 2.0406194657831964,\n 'V320': 2.03516199450567,\n 'V291': 1.9873355751097876,\n 'C3': 1.9798857664777574,\n 'V230': 1.952434201927893,\n 'V208': 1.928173140324827,\n 'V288': 1.924303830848046,\n 'V171': 1.907590700978088,\n 'V313': 1.8990098755358642,\n 'V124': 1.8430636676256678,\n 'V86': 1.812554048602754,\n 'V100': 1.778292112352465,\n 'V42': 1.7518499225134043,\n 'V112': 1.7389113344094842,\n 'V194': 1.73200167936234,\n 'V23': 1.7193794668805304,\n 'D5': 1.714791679168406,\n 'V130': 1.685216993721458,\n 'V39': 1.6631708412289103,\n 'V173': 1.6569561885651223,\n 'V270': 1.6535442194273269,\n 'V195': 1.6473537208680795,\n 'V131': 1.6394507905108662,\n 'D13': 1.6017172952718932,\n 'V114': 1.5951497944257824,\n 'V125': 1.5460086864955138,\n 'V115': 1.5424747555717164,\n 'V228': 1.5139890587427594,\n 'dist1': 1.4992912400341598,\n 'V220': 1.4571065799856668,\n 'V255': 1.4497911036203117,\n 'V19': 1.3806293481522507,\n 'V285': 1.3527037229043564,\n 'id_14': 1.3420865068305878,\n 'C5': 1.3361155334712942,\n 'V35': 1.3338628800653802,\n 'V2': 1.3208450224715889,\n 'id_01': 1.3094582016754908,\n 'V89': 1.3063398746860124,\n 'V120': 1.306079256891332,\n 'V240': 1.2437403732446308,\n 'V250': 1.2293256150068959,\n 'V287': 1.2247974097338434,\n 'V217': 1.2205212967934114,\n 'V286': 1.2146625383831136,\n 'V176': 1.1962577929095153,\n 'V24': 1.1720291351909538,\n 'V118': 1.1392104701233352,\n 'V48': 1.1360037447494846,\n 'V108': 1.1341140828212173,\n 'V53': 1.117962634312624,\n 'id_02': 1.0864606449440029,\n 'V235': 1.0810316768923243,\n 'V162': 1.0565293157789006,\n 'V98': 1.0452787819185805,\n 'V135': 1.0380735999955575,\n 'V88': 1.0102112484941308,\n 'V12': 0.9775727067249742,\n 'id_05': 0.9739167134929926,\n 'V37': 0.9515480374953531,\n 'V27': 0.9310944573718054,\n 'V169': 0.9308325460678419,\n 'V226': 0.9054264019073914,\n 'V116': 0.8958987874772045,\n 'ProductCD_cat': 0.8624848784150732,\n 'V277': 0.8579135870542923,\n 'V302': 0.843362619382139,\n 'V175': 0.8327122335097136,\n 'id_12_cat': 0.8167462412575113,\n 'DifferentEmailDomain': 0.7649659475823396,\n 'D6': 0.7617928147186495,\n 'V221': 0.7598563111166119,\n 'V289': 0.7556206964009916,\n 'D2': 0.7397341941818723,\n 'V215': 0.72172732000324,\n 'V80': 0.7189290673025319,\n 'V61': 0.7054257979006354,\n 'V325': 0.6831368575545627,\n 'V109': 0.6639972518926351,\n 'V41': 0.6588481258183073,\n 'V9': 0.6534685730828351,\n 'V15': 0.6375907470207003,\n 'V210': 0.6360602185317709,\n 'D11': 0.6275593347705021,\n 'id_34_cat': 0.623067806652433,\n 'V241': 0.6166473379970286,\n 'V338': 0.6157562771658093,\n 'V300': 0.6156371455444215,\n 'V290': 0.5804242334633202,\n 'V234': 0.5740052878777133,\n 'V122': 0.5639439191061507,\n 'V311': 0.5617054169101972,\n 'V319': 0.5526095127268145,\n 'V68': 0.5443897775963171,\n 'V14': 0.5332222830189862,\n 'M6_cat': 0.5266854070628388,\n 'V314': 0.5124702691711664,\n 'M4_cat': 0.5107682956481921,\n 'V129': 0.5064787673748689,\n 'DeviceType_cat': 0.4962050235744351,\n 'V121': 0.4838264428189004,\n 'V75': 0.47244460181153214,\n 'V205': 0.4664382867120787,\n 'M1_cat': 0.4549473389618271,\n 'V248': 0.4458301125193329,\n 'V138': 0.4307504704739808,\n 'V7': 0.4266982994878824,\n 'V136': 0.4191798490469291,\n 'V181': 0.4065978663531423,\n 'addr2': 0.3860570119954733,\n 'V260': 0.37731773533377,\n 'V65': 0.3299250178549134,\n 'V263': 0.32529554466334515,\n 'id_10': 0.30691946838591955,\n 'V337': 0.2955770618529765,\n 'card4_cat': 0.2873775428874808,\n 'D12': 0.28719587399174995,\n 'V77': 0.28703011628070907,\n 'V111': 0.277011023240925,\n 'V8': 0.2666889608890207,\n 'id_06': 0.25849959359865354,\n 'V4': 0.2539135268078097,\n 'V46': 0.251550302632235,\n 'V335': 0.24946718182066005,\n 'V26': 0.24799854161468385,\n 'V66': 0.2391214436122301,\n 'D10': 0.236441315219802,\n 'V104': 0.230532132671364,\n 'id_20': 0.2285416278402321,\n 'addr1': 0.21905144543339553,\n 'V95': 0.21215994522101583,\n 'card1': 0.21092235434017462,\n 'V119': 0.16541602804421945,\n 'V10': 0.15198054204693376,\n 'D1': 0.13936192189729305,\n 'card2': 0.13841716073472382,\n 'id_32': 0.12795740315617976,\n 'id_11': 0.12314499727467738,\n 'M5_cat': 0.1075076378338135,\n 'id_19': 0.09092537845221596,\n 'V142': 0.08951675346883196,\n 'id_13': 0.08606591087689669,\n 'D15': 0.07941303984106428,\n 'D14': 0.07591063958453242,\n 'V227': 0.07526434064704693,\n 'V305': 0.07474247000828974,\n 'card5': 0.06486166467307357,\n 'V206': 0.06010543694218257,\n 'TransactionHour': 0.04445928028553054,\n 'V107': 0.04381755019016738,\n 'V161': 0.043386497667123554,\n 'V214': 0.0432195434029993,\n 'M7_cat': 0.04268097199886176,\n 'D9': 0.04223286308432284,\n 'V110': 0.036409749756316556,\n 'TransactionDay': 0.02315358833245512,\n 'D4': 0.023000445058015125,\n 'V117': 0.016023049457837387,\n 'V303': 0.004685574533480894,\n 'V276': 0.003651607950100912,\n 'V1': 0.0008021695696602184,\n 'V166': 0.0007267493888370753}"
     },
     "execution_count": 53,
     "metadata": {},
     "output_type": "execute_result"
    }
   ],
   "source": [
    "logisticRegr_features=Xtrain.columns.tolist()\n",
    "coef_dict={}\n",
    "for coef,feat in zip(logisticRegr.coef_[0],logisticRegr_features):\n",
    "    coef_dict[feat]=np.abs(coef)\n",
    "\n",
    "coef_dict_sorted=dict( sorted(coef_dict.items(), key=operator.itemgetter(1),reverse=True))\n",
    "coef_dict_sorted\n"
   ]
  },
  {
   "cell_type": "markdown",
   "id": "9dbba6d4-add1-4aa0-a920-c1b94beff8b0",
   "metadata": {
    "pycharm": {
     "name": "#%% md\n"
    }
   },
   "source": [
    "Train KNN"
   ]
  },
  {
   "cell_type": "code",
   "execution_count": 54,
   "id": "3646ca68-cbfd-477b-bec4-9671c462fed9",
   "metadata": {
    "pycharm": {
     "name": "#%%\n"
    }
   },
   "outputs": [
    {
     "data": {
      "text/plain": "0.9648457344125716"
     },
     "execution_count": 54,
     "metadata": {},
     "output_type": "execute_result"
    }
   ],
   "source": [
    "(Ytest==0).sum()/Ytest.shape[0]"
   ]
  },
  {
   "cell_type": "code",
   "execution_count": 55,
   "id": "fb161c8b-8953-4203-b9c7-cbb49c9a354f",
   "metadata": {
    "pycharm": {
     "name": "#%%\n"
    }
   },
   "outputs": [
    {
     "ename": "KeyboardInterrupt",
     "evalue": "",
     "output_type": "error",
     "traceback": [
      "\u001B[0;31m---------------------------------------------------------------------------\u001B[0m",
      "\u001B[0;31mKeyboardInterrupt\u001B[0m                         Traceback (most recent call last)",
      "Input \u001B[0;32mIn [55]\u001B[0m, in \u001B[0;36m<cell line: 4>\u001B[0;34m()\u001B[0m\n\u001B[1;32m      1\u001B[0m clf \u001B[38;5;241m=\u001B[39m KNeighborsClassifier()\n\u001B[1;32m      2\u001B[0m clf\u001B[38;5;241m.\u001B[39mfit(Xtrain, Ytrain)\n\u001B[0;32m----> 4\u001B[0m training_score \u001B[38;5;241m=\u001B[39m \u001B[43mclf\u001B[49m\u001B[38;5;241;43m.\u001B[39;49m\u001B[43mscore\u001B[49m\u001B[43m(\u001B[49m\u001B[43mXtrain\u001B[49m\u001B[43m,\u001B[49m\u001B[43m \u001B[49m\u001B[43mYtrain\u001B[49m\u001B[43m)\u001B[49m\n\u001B[1;32m      5\u001B[0m test_score \u001B[38;5;241m=\u001B[39m clf\u001B[38;5;241m.\u001B[39mscore(Xtest, Ytest)\n\u001B[1;32m      6\u001B[0m \u001B[38;5;28mprint\u001B[39m(training_score)\n",
      "File \u001B[0;32m~/anaconda3/envs/aclabs/lib/python3.8/site-packages/sklearn/base.py:651\u001B[0m, in \u001B[0;36mClassifierMixin.score\u001B[0;34m(self, X, y, sample_weight)\u001B[0m\n\u001B[1;32m    626\u001B[0m \u001B[38;5;124;03m\"\"\"\u001B[39;00m\n\u001B[1;32m    627\u001B[0m \u001B[38;5;124;03mReturn the mean accuracy on the given test data and labels.\u001B[39;00m\n\u001B[1;32m    628\u001B[0m \n\u001B[0;32m   (...)\u001B[0m\n\u001B[1;32m    647\u001B[0m \u001B[38;5;124;03m    Mean accuracy of ``self.predict(X)`` wrt. `y`.\u001B[39;00m\n\u001B[1;32m    648\u001B[0m \u001B[38;5;124;03m\"\"\"\u001B[39;00m\n\u001B[1;32m    649\u001B[0m \u001B[38;5;28;01mfrom\u001B[39;00m \u001B[38;5;21;01m.\u001B[39;00m\u001B[38;5;21;01mmetrics\u001B[39;00m \u001B[38;5;28;01mimport\u001B[39;00m accuracy_score\n\u001B[0;32m--> 651\u001B[0m \u001B[38;5;28;01mreturn\u001B[39;00m accuracy_score(y, \u001B[38;5;28;43mself\u001B[39;49m\u001B[38;5;241;43m.\u001B[39;49m\u001B[43mpredict\u001B[49m\u001B[43m(\u001B[49m\u001B[43mX\u001B[49m\u001B[43m)\u001B[49m, sample_weight\u001B[38;5;241m=\u001B[39msample_weight)\n",
      "File \u001B[0;32m~/anaconda3/envs/aclabs/lib/python3.8/site-packages/sklearn/neighbors/_classification.py:214\u001B[0m, in \u001B[0;36mKNeighborsClassifier.predict\u001B[0;34m(self, X)\u001B[0m\n\u001B[1;32m    200\u001B[0m \u001B[38;5;28;01mdef\u001B[39;00m \u001B[38;5;21mpredict\u001B[39m(\u001B[38;5;28mself\u001B[39m, X):\n\u001B[1;32m    201\u001B[0m     \u001B[38;5;124;03m\"\"\"Predict the class labels for the provided data.\u001B[39;00m\n\u001B[1;32m    202\u001B[0m \n\u001B[1;32m    203\u001B[0m \u001B[38;5;124;03m    Parameters\u001B[39;00m\n\u001B[0;32m   (...)\u001B[0m\n\u001B[1;32m    212\u001B[0m \u001B[38;5;124;03m        Class labels for each data sample.\u001B[39;00m\n\u001B[1;32m    213\u001B[0m \u001B[38;5;124;03m    \"\"\"\u001B[39;00m\n\u001B[0;32m--> 214\u001B[0m     neigh_dist, neigh_ind \u001B[38;5;241m=\u001B[39m \u001B[38;5;28;43mself\u001B[39;49m\u001B[38;5;241;43m.\u001B[39;49m\u001B[43mkneighbors\u001B[49m\u001B[43m(\u001B[49m\u001B[43mX\u001B[49m\u001B[43m)\u001B[49m\n\u001B[1;32m    215\u001B[0m     classes_ \u001B[38;5;241m=\u001B[39m \u001B[38;5;28mself\u001B[39m\u001B[38;5;241m.\u001B[39mclasses_\n\u001B[1;32m    216\u001B[0m     _y \u001B[38;5;241m=\u001B[39m \u001B[38;5;28mself\u001B[39m\u001B[38;5;241m.\u001B[39m_y\n",
      "File \u001B[0;32m~/anaconda3/envs/aclabs/lib/python3.8/site-packages/sklearn/neighbors/_base.py:752\u001B[0m, in \u001B[0;36mKNeighborsMixin.kneighbors\u001B[0;34m(self, X, n_neighbors, return_distance)\u001B[0m\n\u001B[1;32m    749\u001B[0m     \u001B[38;5;28;01melse\u001B[39;00m:\n\u001B[1;32m    750\u001B[0m         kwds \u001B[38;5;241m=\u001B[39m \u001B[38;5;28mself\u001B[39m\u001B[38;5;241m.\u001B[39meffective_metric_params_\n\u001B[0;32m--> 752\u001B[0m     chunked_results \u001B[38;5;241m=\u001B[39m \u001B[38;5;28;43mlist\u001B[39;49m\u001B[43m(\u001B[49m\n\u001B[1;32m    753\u001B[0m \u001B[43m        \u001B[49m\u001B[43mpairwise_distances_chunked\u001B[49m\u001B[43m(\u001B[49m\n\u001B[1;32m    754\u001B[0m \u001B[43m            \u001B[49m\u001B[43mX\u001B[49m\u001B[43m,\u001B[49m\n\u001B[1;32m    755\u001B[0m \u001B[43m            \u001B[49m\u001B[38;5;28;43mself\u001B[39;49m\u001B[38;5;241;43m.\u001B[39;49m\u001B[43m_fit_X\u001B[49m\u001B[43m,\u001B[49m\n\u001B[1;32m    756\u001B[0m \u001B[43m            \u001B[49m\u001B[43mreduce_func\u001B[49m\u001B[38;5;241;43m=\u001B[39;49m\u001B[43mreduce_func\u001B[49m\u001B[43m,\u001B[49m\n\u001B[1;32m    757\u001B[0m \u001B[43m            \u001B[49m\u001B[43mmetric\u001B[49m\u001B[38;5;241;43m=\u001B[39;49m\u001B[38;5;28;43mself\u001B[39;49m\u001B[38;5;241;43m.\u001B[39;49m\u001B[43meffective_metric_\u001B[49m\u001B[43m,\u001B[49m\n\u001B[1;32m    758\u001B[0m \u001B[43m            \u001B[49m\u001B[43mn_jobs\u001B[49m\u001B[38;5;241;43m=\u001B[39;49m\u001B[43mn_jobs\u001B[49m\u001B[43m,\u001B[49m\n\u001B[1;32m    759\u001B[0m \u001B[43m            \u001B[49m\u001B[38;5;241;43m*\u001B[39;49m\u001B[38;5;241;43m*\u001B[39;49m\u001B[43mkwds\u001B[49m\u001B[43m,\u001B[49m\n\u001B[1;32m    760\u001B[0m \u001B[43m        \u001B[49m\u001B[43m)\u001B[49m\n\u001B[1;32m    761\u001B[0m \u001B[43m    \u001B[49m\u001B[43m)\u001B[49m\n\u001B[1;32m    763\u001B[0m \u001B[38;5;28;01melif\u001B[39;00m \u001B[38;5;28mself\u001B[39m\u001B[38;5;241m.\u001B[39m_fit_method \u001B[38;5;129;01min\u001B[39;00m [\u001B[38;5;124m\"\u001B[39m\u001B[38;5;124mball_tree\u001B[39m\u001B[38;5;124m\"\u001B[39m, \u001B[38;5;124m\"\u001B[39m\u001B[38;5;124mkd_tree\u001B[39m\u001B[38;5;124m\"\u001B[39m]:\n\u001B[1;32m    764\u001B[0m     \u001B[38;5;28;01mif\u001B[39;00m issparse(X):\n",
      "File \u001B[0;32m~/anaconda3/envs/aclabs/lib/python3.8/site-packages/sklearn/metrics/pairwise.py:1726\u001B[0m, in \u001B[0;36mpairwise_distances_chunked\u001B[0;34m(X, Y, reduce_func, metric, n_jobs, working_memory, **kwds)\u001B[0m\n\u001B[1;32m   1724\u001B[0m \u001B[38;5;28;01mif\u001B[39;00m reduce_func \u001B[38;5;129;01mis\u001B[39;00m \u001B[38;5;129;01mnot\u001B[39;00m \u001B[38;5;28;01mNone\u001B[39;00m:\n\u001B[1;32m   1725\u001B[0m     chunk_size \u001B[38;5;241m=\u001B[39m D_chunk\u001B[38;5;241m.\u001B[39mshape[\u001B[38;5;241m0\u001B[39m]\n\u001B[0;32m-> 1726\u001B[0m     D_chunk \u001B[38;5;241m=\u001B[39m \u001B[43mreduce_func\u001B[49m\u001B[43m(\u001B[49m\u001B[43mD_chunk\u001B[49m\u001B[43m,\u001B[49m\u001B[43m \u001B[49m\u001B[43msl\u001B[49m\u001B[38;5;241;43m.\u001B[39;49m\u001B[43mstart\u001B[49m\u001B[43m)\u001B[49m\n\u001B[1;32m   1727\u001B[0m     _check_chunk_size(D_chunk, chunk_size)\n\u001B[1;32m   1728\u001B[0m \u001B[38;5;28;01myield\u001B[39;00m D_chunk\n",
      "File \u001B[0;32m~/anaconda3/envs/aclabs/lib/python3.8/site-packages/sklearn/neighbors/_base.py:634\u001B[0m, in \u001B[0;36mKNeighborsMixin._kneighbors_reduce_func\u001B[0;34m(self, dist, start, n_neighbors, return_distance)\u001B[0m\n\u001B[1;32m    607\u001B[0m \u001B[38;5;124;03m\"\"\"Reduce a chunk of distances to the nearest neighbors.\u001B[39;00m\n\u001B[1;32m    608\u001B[0m \n\u001B[1;32m    609\u001B[0m \u001B[38;5;124;03mCallback to :func:`sklearn.metrics.pairwise.pairwise_distances_chunked`\u001B[39;00m\n\u001B[0;32m   (...)\u001B[0m\n\u001B[1;32m    631\u001B[0m \u001B[38;5;124;03m    The neighbors indices.\u001B[39;00m\n\u001B[1;32m    632\u001B[0m \u001B[38;5;124;03m\"\"\"\u001B[39;00m\n\u001B[1;32m    633\u001B[0m sample_range \u001B[38;5;241m=\u001B[39m np\u001B[38;5;241m.\u001B[39marange(dist\u001B[38;5;241m.\u001B[39mshape[\u001B[38;5;241m0\u001B[39m])[:, \u001B[38;5;28;01mNone\u001B[39;00m]\n\u001B[0;32m--> 634\u001B[0m neigh_ind \u001B[38;5;241m=\u001B[39m \u001B[43mnp\u001B[49m\u001B[38;5;241;43m.\u001B[39;49m\u001B[43margpartition\u001B[49m\u001B[43m(\u001B[49m\u001B[43mdist\u001B[49m\u001B[43m,\u001B[49m\u001B[43m \u001B[49m\u001B[43mn_neighbors\u001B[49m\u001B[43m \u001B[49m\u001B[38;5;241;43m-\u001B[39;49m\u001B[43m \u001B[49m\u001B[38;5;241;43m1\u001B[39;49m\u001B[43m,\u001B[49m\u001B[43m \u001B[49m\u001B[43maxis\u001B[49m\u001B[38;5;241;43m=\u001B[39;49m\u001B[38;5;241;43m1\u001B[39;49m\u001B[43m)\u001B[49m\n\u001B[1;32m    635\u001B[0m neigh_ind \u001B[38;5;241m=\u001B[39m neigh_ind[:, :n_neighbors]\n\u001B[1;32m    636\u001B[0m \u001B[38;5;66;03m# argpartition doesn't guarantee sorted order, so we sort again\u001B[39;00m\n",
      "File \u001B[0;32m<__array_function__ internals>:180\u001B[0m, in \u001B[0;36margpartition\u001B[0;34m(*args, **kwargs)\u001B[0m\n",
      "File \u001B[0;32m~/anaconda3/envs/aclabs/lib/python3.8/site-packages/numpy/core/fromnumeric.py:845\u001B[0m, in \u001B[0;36margpartition\u001B[0;34m(a, kth, axis, kind, order)\u001B[0m\n\u001B[1;32m    766\u001B[0m \u001B[38;5;129m@array_function_dispatch\u001B[39m(_argpartition_dispatcher)\n\u001B[1;32m    767\u001B[0m \u001B[38;5;28;01mdef\u001B[39;00m \u001B[38;5;21margpartition\u001B[39m(a, kth, axis\u001B[38;5;241m=\u001B[39m\u001B[38;5;241m-\u001B[39m\u001B[38;5;241m1\u001B[39m, kind\u001B[38;5;241m=\u001B[39m\u001B[38;5;124m'\u001B[39m\u001B[38;5;124mintroselect\u001B[39m\u001B[38;5;124m'\u001B[39m, order\u001B[38;5;241m=\u001B[39m\u001B[38;5;28;01mNone\u001B[39;00m):\n\u001B[1;32m    768\u001B[0m     \u001B[38;5;124;03m\"\"\"\u001B[39;00m\n\u001B[1;32m    769\u001B[0m \u001B[38;5;124;03m    Perform an indirect partition along the given axis using the\u001B[39;00m\n\u001B[1;32m    770\u001B[0m \u001B[38;5;124;03m    algorithm specified by the `kind` keyword. It returns an array of\u001B[39;00m\n\u001B[0;32m   (...)\u001B[0m\n\u001B[1;32m    843\u001B[0m \n\u001B[1;32m    844\u001B[0m \u001B[38;5;124;03m    \"\"\"\u001B[39;00m\n\u001B[0;32m--> 845\u001B[0m     \u001B[38;5;28;01mreturn\u001B[39;00m \u001B[43m_wrapfunc\u001B[49m\u001B[43m(\u001B[49m\u001B[43ma\u001B[49m\u001B[43m,\u001B[49m\u001B[43m \u001B[49m\u001B[38;5;124;43m'\u001B[39;49m\u001B[38;5;124;43margpartition\u001B[39;49m\u001B[38;5;124;43m'\u001B[39;49m\u001B[43m,\u001B[49m\u001B[43m \u001B[49m\u001B[43mkth\u001B[49m\u001B[43m,\u001B[49m\u001B[43m \u001B[49m\u001B[43maxis\u001B[49m\u001B[38;5;241;43m=\u001B[39;49m\u001B[43maxis\u001B[49m\u001B[43m,\u001B[49m\u001B[43m \u001B[49m\u001B[43mkind\u001B[49m\u001B[38;5;241;43m=\u001B[39;49m\u001B[43mkind\u001B[49m\u001B[43m,\u001B[49m\u001B[43m \u001B[49m\u001B[43morder\u001B[49m\u001B[38;5;241;43m=\u001B[39;49m\u001B[43morder\u001B[49m\u001B[43m)\u001B[49m\n",
      "File \u001B[0;32m~/anaconda3/envs/aclabs/lib/python3.8/site-packages/numpy/core/fromnumeric.py:57\u001B[0m, in \u001B[0;36m_wrapfunc\u001B[0;34m(obj, method, *args, **kwds)\u001B[0m\n\u001B[1;32m     54\u001B[0m     \u001B[38;5;28;01mreturn\u001B[39;00m _wrapit(obj, method, \u001B[38;5;241m*\u001B[39margs, \u001B[38;5;241m*\u001B[39m\u001B[38;5;241m*\u001B[39mkwds)\n\u001B[1;32m     56\u001B[0m \u001B[38;5;28;01mtry\u001B[39;00m:\n\u001B[0;32m---> 57\u001B[0m     \u001B[38;5;28;01mreturn\u001B[39;00m \u001B[43mbound\u001B[49m\u001B[43m(\u001B[49m\u001B[38;5;241;43m*\u001B[39;49m\u001B[43margs\u001B[49m\u001B[43m,\u001B[49m\u001B[43m \u001B[49m\u001B[38;5;241;43m*\u001B[39;49m\u001B[38;5;241;43m*\u001B[39;49m\u001B[43mkwds\u001B[49m\u001B[43m)\u001B[49m\n\u001B[1;32m     58\u001B[0m \u001B[38;5;28;01mexcept\u001B[39;00m \u001B[38;5;167;01mTypeError\u001B[39;00m:\n\u001B[1;32m     59\u001B[0m     \u001B[38;5;66;03m# A TypeError occurs if the object does have such a method in its\u001B[39;00m\n\u001B[1;32m     60\u001B[0m     \u001B[38;5;66;03m# class, but its signature is not identical to that of NumPy's. This\u001B[39;00m\n\u001B[0;32m   (...)\u001B[0m\n\u001B[1;32m     64\u001B[0m     \u001B[38;5;66;03m# Call _wrapit from within the except clause to ensure a potential\u001B[39;00m\n\u001B[1;32m     65\u001B[0m     \u001B[38;5;66;03m# exception has a traceback chain.\u001B[39;00m\n\u001B[1;32m     66\u001B[0m     \u001B[38;5;28;01mreturn\u001B[39;00m _wrapit(obj, method, \u001B[38;5;241m*\u001B[39margs, \u001B[38;5;241m*\u001B[39m\u001B[38;5;241m*\u001B[39mkwds)\n",
      "\u001B[0;31mKeyboardInterrupt\u001B[0m: "
     ]
    }
   ],
   "source": [
    "clf = KNeighborsClassifier()\n",
    "clf.fit(Xtrain, Ytrain)\n",
    "  \n",
    "training_score = clf.score(Xtrain, Ytrain)\n",
    "test_score = clf.score(Xtest, Ytest)\n",
    "print(training_score)\n",
    "print(test_score)"
   ]
  }
 ],
 "metadata": {
  "kernelspec": {
   "display_name": "Python 3 (ipykernel)",
   "language": "python",
   "name": "python3"
  },
  "language_info": {
   "codemirror_mode": {
    "name": "ipython",
    "version": 3
   },
   "file_extension": ".py",
   "mimetype": "text/x-python",
   "name": "python",
   "nbconvert_exporter": "python",
   "pygments_lexer": "ipython3",
   "version": "3.10.2"
  }
 },
 "nbformat": 4,
 "nbformat_minor": 5
}